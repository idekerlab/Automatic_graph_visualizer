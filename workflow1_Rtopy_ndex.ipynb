{
 "cells": [
  {
   "cell_type": "code",
   "execution_count": 126,
   "metadata": {},
   "outputs": [],
   "source": [
    "import pandas as pd\n",
    "import igraph\n",
    "import numpy as np\n",
    "import pdb\n",
    "from ndex2.nice_cx_network import NiceCXNetwork\n",
    "import ndex2.client as nc\n",
    "import ndex2\n",
    "import networkx as nx\n",
    "from fa2 import ForceAtlas2\n",
    "from networkx.drawing import nx_pydot as pyd\n",
    "\n",
    "import matplotlib.pyplot as plt\n",
    "\n",
    "from py2cytoscape import cyrest\n",
    "import json\n",
    "import requests"
   ]
  },
  {
   "cell_type": "markdown",
   "metadata": {},
   "source": [
    "#from https://github.com/idekerlab/cy-rest-R/blob/develop/workflow1_structure_based_visualization.R"
   ]
  },
  {
   "cell_type": "markdown",
   "metadata": {},
   "source": [
    "# Step 1: Network Data Preparation"
   ]
  },
  {
   "cell_type": "markdown",
   "metadata": {},
   "source": [
    "Load network from NDEx"
   ]
  },
  {
   "cell_type": "code",
   "execution_count": 127,
   "metadata": {},
   "outputs": [],
   "source": [
    "#nice_cx_network = ndex2.create_nice_cx_from_server(server='public.ndexbio.org', uuid='c060aff9-86d4-11e7-a10d-0ac135e8bacf')\n",
    "nice_cx_network = ndex2.create_nice_cx_from_server(server='public.ndexbio.org', uuid='f1dd6cc3-0007-11e6-b550-06603eb7f303')"
   ]
  },
  {
   "cell_type": "code",
   "execution_count": 128,
   "metadata": {},
   "outputs": [
    {
     "name": "stdout",
     "output_type": "stream",
     "text": [
      "Name: CoCaNet2\n",
      "Nodes: 36\n",
      "Edges: 37\n",
      "Node Attributes: 706\n",
      "Edge Attributes: 517\n",
      "\n"
     ]
    }
   ],
   "source": [
    "nice_cx_network.print_summary()"
   ]
  },
  {
   "cell_type": "code",
   "execution_count": 129,
   "metadata": {},
   "outputs": [],
   "source": [
    "nice_cx_from_server_df=nice_cx_network.to_pandas_dataframe()"
   ]
  },
  {
   "cell_type": "code",
   "execution_count": 130,
   "metadata": {},
   "outputs": [
    {
     "data": {
      "text/html": [
       "<div>\n",
       "<style scoped>\n",
       "    .dataframe tbody tr th:only-of-type {\n",
       "        vertical-align: middle;\n",
       "    }\n",
       "\n",
       "    .dataframe tbody tr th {\n",
       "        vertical-align: top;\n",
       "    }\n",
       "\n",
       "    .dataframe thead th {\n",
       "        text-align: right;\n",
       "    }\n",
       "</style>\n",
       "<table border=\"1\" class=\"dataframe\">\n",
       "  <thead>\n",
       "    <tr style=\"text-align: right;\">\n",
       "      <th></th>\n",
       "      <th>source</th>\n",
       "      <th>interaction</th>\n",
       "      <th>target</th>\n",
       "    </tr>\n",
       "  </thead>\n",
       "  <tbody>\n",
       "    <tr>\n",
       "      <th>0</th>\n",
       "      <td>druggable</td>\n",
       "      <td>pp</td>\n",
       "      <td>TS</td>\n",
       "    </tr>\n",
       "    <tr>\n",
       "      <th>1</th>\n",
       "      <td>DHFR</td>\n",
       "      <td>pp</td>\n",
       "      <td>MAPK1</td>\n",
       "    </tr>\n",
       "    <tr>\n",
       "      <th>2</th>\n",
       "      <td>CHEK1</td>\n",
       "      <td>pp</td>\n",
       "      <td>BLM</td>\n",
       "    </tr>\n",
       "    <tr>\n",
       "      <th>3</th>\n",
       "      <td>IMPDH1</td>\n",
       "      <td>pp</td>\n",
       "      <td>MTIF2</td>\n",
       "    </tr>\n",
       "    <tr>\n",
       "      <th>4</th>\n",
       "      <td>IMPDH1</td>\n",
       "      <td>pp</td>\n",
       "      <td>ING5</td>\n",
       "    </tr>\n",
       "  </tbody>\n",
       "</table>\n",
       "</div>"
      ],
      "text/plain": [
       "      source interaction target\n",
       "0  druggable          pp     TS\n",
       "1       DHFR          pp  MAPK1\n",
       "2      CHEK1          pp    BLM\n",
       "3     IMPDH1          pp  MTIF2\n",
       "4     IMPDH1          pp   ING5"
      ]
     },
     "execution_count": 130,
     "metadata": {},
     "output_type": "execute_result"
    }
   ],
   "source": [
    "nice_cx_from_server_df.head()"
   ]
  },
  {
   "cell_type": "markdown",
   "metadata": {},
   "source": [
    "Convert it to simple edge list"
   ]
  },
  {
   "cell_type": "code",
   "execution_count": 131,
   "metadata": {},
   "outputs": [],
   "source": [
    "edgelist=nice_cx_from_server_df.iloc[:,[0,2]]"
   ]
  },
  {
   "cell_type": "markdown",
   "metadata": {},
   "source": [
    "Convert DF to undirected igraph object\n",
    "This is a PPI network, so import as undirected."
   ]
  },
  {
   "cell_type": "code",
   "execution_count": 132,
   "metadata": {},
   "outputs": [],
   "source": [
    "tuples=[tuple(x) for x in edgelist.values]\n",
    "g_original = igraph.Graph.TupleList(tuples,directed=False)"
   ]
  },
  {
   "cell_type": "markdown",
   "metadata": {},
   "source": [
    "Extract componentes (individual connected subgraphs)"
   ]
  },
  {
   "cell_type": "code",
   "execution_count": 133,
   "metadata": {},
   "outputs": [],
   "source": [
    "subgraphs=g_original.decompose()"
   ]
  },
  {
   "cell_type": "markdown",
   "metadata": {},
   "source": [
    "Pick largest subgraph"
   ]
  },
  {
   "cell_type": "code",
   "execution_count": 134,
   "metadata": {},
   "outputs": [],
   "source": [
    "tmp=[i.vcount() for i in subgraphs]\n",
    "largeset_subgraph = subgraphs[tmp.index(max(tmp))]"
   ]
  },
  {
   "cell_type": "markdown",
   "metadata": {},
   "source": [
    "Remove duplicate edges"
   ]
  },
  {
   "cell_type": "code",
   "execution_count": 135,
   "metadata": {},
   "outputs": [],
   "source": [
    "g = largeset_subgraph.simplify(multiple=True, loops=True)\n",
    "g.name = \"Yeast network\""
   ]
  },
  {
   "cell_type": "markdown",
   "metadata": {},
   "source": [
    "# Step 2: Basic statistical analysis"
   ]
  },
  {
   "cell_type": "markdown",
   "metadata": {},
   "source": [
    "Global Network Statics"
   ]
  },
  {
   "cell_type": "code",
   "execution_count": 136,
   "metadata": {},
   "outputs": [
    {
     "name": "stdout",
     "output_type": "stream",
     "text": [
      "Density: 0.07881773399014778\n",
      "Transitivity: 0.045454545454545456\n"
     ]
    }
   ],
   "source": [
    "print(\"Density:\",g.density())\n",
    "print(\"Transitivity:\",g.transitivity_undirected())"
   ]
  },
  {
   "cell_type": "markdown",
   "metadata": {},
   "source": [
    "Node statistics"
   ]
  },
  {
   "cell_type": "code",
   "execution_count": 137,
   "metadata": {},
   "outputs": [],
   "source": [
    "g_closeness = g.vs.closeness() # Closeness Centrarity\n",
    "g_degree = g.vs.degree() # Degree\n",
    "g_pagerank = g.vs.pagerank(directed = False) # PageRank\n",
    "g_vs_betweenness = g.vs.betweenness() # Betweenness Centrarity"
   ]
  },
  {
   "cell_type": "markdown",
   "metadata": {},
   "source": [
    "Edge statics"
   ]
  },
  {
   "cell_type": "code",
   "execution_count": 138,
   "metadata": {},
   "outputs": [],
   "source": [
    "g_es_betweenness = g.es.edge_betweenness() # Edge Betweenness"
   ]
  },
  {
   "cell_type": "markdown",
   "metadata": {},
   "source": [
    "# Step 3: Community Detection: Try multiple algorithms"
   ]
  },
  {
   "cell_type": "markdown",
   "metadata": {},
   "source": [
    "Clustering"
   ]
  },
  {
   "cell_type": "code",
   "execution_count": 139,
   "metadata": {},
   "outputs": [],
   "source": [
    "communities_greedy = g.community_fastgreedy().as_clustering()\n",
    "communities_leading = g.community_leading_eigenvector()\n",
    "communities_label_propagation = g.community_label_propagation()"
   ]
  },
  {
   "cell_type": "code",
   "execution_count": 140,
   "metadata": {},
   "outputs": [],
   "source": [
    "v_community_greedy = communities_greedy.membership\n",
    "v_community_leading = communities_leading.membership\n",
    "v_community_label_propagation = communities_label_propagation.membership"
   ]
  },
  {
   "cell_type": "code",
   "execution_count": 141,
   "metadata": {},
   "outputs": [],
   "source": [
    "def getCommunityEdge(g, community):\n",
    "    num_edges = g.ecount()\n",
    "    edge_community = [0]*num_edges\n",
    "    comms = community\n",
    "    sources=[i for i, _ in g.get_edgelist()]\n",
    "    targets=[j for _, j in g.get_edgelist()]\n",
    "    for i in range(num_edges):\n",
    "        sidx = sources[i]\n",
    "        tidx = targets[i]\n",
    "        source = comms[sidx]\n",
    "        target = comms[tidx]\n",
    "        \n",
    "        if source == target:\n",
    "            edge_community[i] = source+1\n",
    "    return edge_community\n",
    "    "
   ]
  },
  {
   "cell_type": "code",
   "execution_count": 142,
   "metadata": {},
   "outputs": [],
   "source": [
    "e_commnity_greedy = getCommunityEdge(g, v_community_greedy)\n",
    "e_commnity_leading = getCommunityEdge(g, v_community_leading)\n",
    "e_community_label_propagation = getCommunityEdge(g, v_community_label_propagation)"
   ]
  },
  {
   "cell_type": "markdown",
   "metadata": {},
   "source": [
    "## Convert igraph to networkx"
   ]
  },
  {
   "cell_type": "code",
   "execution_count": 143,
   "metadata": {},
   "outputs": [],
   "source": [
    "def search_interaction(df,src,tgt):\n",
    "    if len(df[(df['source']==src) & (df['target']==tgt)]):\n",
    "        return df[(df['source']==src) & (df['target']==tgt)]['interaction'].values[0]\n",
    "    else:\n",
    "        return df[(df['source']==tgt) & (df['target']==src)]['interaction'].values[0]"
   ]
  },
  {
   "cell_type": "code",
   "execution_count": 144,
   "metadata": {},
   "outputs": [],
   "source": [
    "# sources=[g.vs['name'][i] for i, _ in g.get_edgelist()]\n",
    "# targets=[g.vs['name'][j] for _, j in g.get_edgelist()]\n",
    "# interaction=[search_interaction(nice_cx_from_server_df,i ,j) for i,j in zip(sources,targets)]\n",
    "# edgeprop=e_commnity_greedy"
   ]
  },
  {
   "cell_type": "code",
   "execution_count": 145,
   "metadata": {},
   "outputs": [],
   "source": [
    "G_nx=nx.Graph()\n",
    "for i,j in g.get_edgelist():\n",
    "    G_nx.add_edge(g.vs['name'][i],g.vs['name'][j],communities=k)\n",
    "    "
   ]
  },
  {
   "cell_type": "code",
   "execution_count": null,
   "metadata": {},
   "outputs": [],
   "source": []
  },
  {
   "cell_type": "markdown",
   "metadata": {},
   "source": [
    "## Layout using ForceAtlas2"
   ]
  },
  {
   "cell_type": "code",
   "execution_count": null,
   "metadata": {},
   "outputs": [],
   "source": []
  },
  {
   "cell_type": "code",
   "execution_count": null,
   "metadata": {},
   "outputs": [],
   "source": []
  },
  {
   "cell_type": "code",
   "execution_count": 146,
   "metadata": {},
   "outputs": [
    {
     "name": "stderr",
     "output_type": "stream",
     "text": [
      "100%|██████████| 2000/2000 [00:00<00:00, 3889.06it/s]\n",
      "/usr/local/lib/python3.6/dist-packages/networkx/drawing/nx_pylab.py:579: MatplotlibDeprecationWarning: \n",
      "The iterable function was deprecated in Matplotlib 3.1 and will be removed in 3.3. Use np.iterable instead.\n",
      "  if not cb.iterable(width):\n"
     ]
    },
    {
     "name": "stdout",
     "output_type": "stream",
     "text": [
      "BarnesHut Approximation  took  0.10  seconds\n",
      "Repulsion forces  took  0.10  seconds\n",
      "Gravitational forces  took  0.03  seconds\n",
      "Attraction forces  took  0.04  seconds\n",
      "AdjustSpeedAndApplyForces step  took  0.08  seconds\n"
     ]
    },
    {
     "data": {
      "image/png": "[encoded data removed]",
      "text/plain": [
       "<Figure size 432x288 with 1 Axes>"
      ]
     },
     "metadata": {},
     "output_type": "display_data"
    }
   ],
   "source": [
    "\n",
    "\n",
    "forceatlas2 = ForceAtlas2(\n",
    "                        # Behavior alternatives\n",
    "                        outboundAttractionDistribution=True,  # Dissuade hubs\n",
    "                        linLogMode=False,  # NOT IMPLEMENTED\n",
    "                        adjustSizes=False,  # Prevent overlap (NOT IMPLEMENTED)\n",
    "                        edgeWeightInfluence=1.0,\n",
    "\n",
    "                        # Performance\n",
    "                        jitterTolerance=1.0,  # Tolerance\n",
    "                        barnesHutOptimize=True,\n",
    "                        barnesHutTheta=1.2,\n",
    "                        multiThreaded=False,  # NOT IMPLEMENTED\n",
    "\n",
    "                        # Tuning\n",
    "                        scalingRatio=20,\n",
    "                        strongGravityMode=False,\n",
    "                        gravity=0.5,\n",
    "\n",
    "                        # Log\n",
    "                        verbose=True)\n",
    "\n",
    "positions = forceatlas2.forceatlas2_networkx_layout(G_nx, pos=None, iterations=2000)\n",
    "nx.draw_networkx_nodes(G_nx, positions, node_size=20, with_labels=False, node_color=\"blue\", alpha=0.4)\n",
    "nx.draw_networkx_edges(G_nx, positions, edge_color=\"green\", alpha=0.05)\n",
    "plt.axis('off')\n",
    "plt.show()\n"
   ]
  },
  {
   "cell_type": "markdown",
   "metadata": {},
   "source": [
    "### Convert \"positions\" to \"certesian\""
   ]
  },
  {
   "cell_type": "code",
   "execution_count": 147,
   "metadata": {},
   "outputs": [],
   "source": [
    "certesian = [{'node':i,'x': float(positions[n][0]),'y': float(positions[n][1])}for i, n in enumerate(positions)]"
   ]
  },
  {
   "cell_type": "markdown",
   "metadata": {},
   "source": [
    "### Apply \"certesian\" to NiceCX"
   ]
  },
  {
   "cell_type": "code",
   "execution_count": 148,
   "metadata": {},
   "outputs": [],
   "source": [
    "ncx_from_x=ndex2.create_nice_cx_from_networkx(G_nx)\n",
    "\n",
    "\"\"\"   Add attribute   \"\"\"\n",
    "for i, cluster in enumerate(v_community_greedy):\n",
    "    ncx_from_x.set_node_attribute(i, str(cluster), cluster)\n",
    "\n",
    "ncx_from_x.apply_style_from_network\n",
    "ncx_from_x.set_opaque_aspect(\"cartesianLayout\", certesian)"
   ]
  },
  {
   "cell_type": "code",
   "execution_count": null,
   "metadata": {},
   "outputs": [],
   "source": []
  },
  {
   "cell_type": "code",
   "execution_count": 124,
   "metadata": {},
   "outputs": [],
   "source": [
    "def BuildStyle(style_name, g, colors, community):\n",
    "    # Prepare Defaults\n",
    "    def_node_border_widh = {\"visualProperty\":\"NODE_BORDER_WIDTH\",\n",
    "                           \"value\":0}\n",
    "    def_node_transparency = {\"visualProperty\":\"NODE_TRANSPARENCY\",\n",
    "                            \"value\":230}\n",
    "    def_edge_transparency = {\"visualProperty\":\"EDGE_TRANSPARENCY\",\n",
    "                            \"value\":120}\n",
    "    def_edge_widh = {\"visualProperty\":\"EDGE_WIDTH\",\n",
    "                    \"value\":2}\n",
    "    def_network_background = {\"visualProperty\":\"NETWORK_BACKGROUND_PAINT\",\n",
    "                             \"value\":\"black\"}\n",
    "    \n",
    "    default = [def_node_border_widh,\n",
    "               def_node_transparency,\n",
    "               def_edge_transparency,\n",
    "               def_edge_widh,\n",
    "               def_network_background]\n",
    "    \n",
    "    #Mappings\n",
    "    mapping = []\n",
    "    \n",
    "    #Color mappings\n",
    "    node_fill_color = {\"mappingType\":\"passthrough\",\n",
    "                       \"mappingColumns\":colors,\n",
    "                       \"mappingColumnType\":\"String\",\n",
    "                       \"visualProperty\":\"NODE_FILL_COLOR\"}\n",
    "    \n",
    "    edge_color = {\"mappingType\":\"passthrough\",\n",
    "                  \"mappingColumn\":colors,\n",
    "                  \"mappingColumnType\":\"String\",\n",
    "                  \"visualProperty\":\"EDGE_STROKE_UNSELECTED_PAINT\"}\n",
    "    \n",
    "    #Node Size Mapping\n",
    "    min_betweenness = min(g.vs.betweenness())\n",
    "    max_betweenness = max(g.vs.betweenness())\n",
    "    \n",
    "    point1 = {\"value\":min_betweenness,\n",
    "              \"lesser\":\"5.0\",\n",
    "              \"equal\":\"5.0\",\n",
    "              \"greater\":\"5.0\"}\n",
    "    \n",
    "    point2 = {\"value\":max_betweenness,\n",
    "              \"lesser\":\"100.0\",\n",
    "              \"equal\":\"100.0\",\n",
    "              \"greater\":\"100.0\"}\n",
    "    \n",
    "    node_size_continuous_points = [point1,point2]\n",
    "    \n",
    "    node_size = {\"mappingType\":\"continuous\",\n",
    "                 \"mappingColumn\":\"betweenness\",\n",
    "                 \"mappingColumnType\":\"Double\",\n",
    "                 \"visualProperty\":\"NODE_SIZE\",\n",
    "                 \"points\":node_size_continuous_points}\n",
    "    \n",
    "    edge_trans_point = {\"value\":1.0,\n",
    "                        \"lesser\":\"40\",\n",
    "                        \"equal\":\"200\",\n",
    "                        \"greater\":\"200\"}\n",
    "    edge_trans_continuous_points = [edge_trans_point]\n",
    "    \n",
    "    edge_trans = {\"mappingType\":\"continuous\",\n",
    "                 \"mappingColumn\":community,\n",
    "                 \"mappingColumnType\":\"Double\",\n",
    "                 \"visualProperty\":\"EDGE_TRANSPARENCY\",\n",
    "                 \"points\":edge_trans_continuous_points}\n",
    "    \n",
    "    mappings = [node_fill_color, edge_color, node_size, edge_trans]\n",
    "    \n",
    "    style = {\"title\":style_name, \"default\":defaults, \"mapping\":mappings}\n",
    "    \n",
    "    return style"
   ]
  },
  {
   "cell_type": "code",
   "execution_count": 125,
   "metadata": {},
   "outputs": [
    {
     "ename": "SyntaxError",
     "evalue": "invalid syntax (<ipython-input-125-131463ab70cb>, line 1)",
     "output_type": "error",
     "traceback": [
      "\u001b[0;36m  File \u001b[0;32m\"<ipython-input-125-131463ab70cb>\"\u001b[0;36m, line \u001b[0;32m1\u001b[0m\n\u001b[0;31m    BuildStyle('greedy',G_nx,,community)\u001b[0m\n\u001b[0m                             ^\u001b[0m\n\u001b[0;31mSyntaxError\u001b[0m\u001b[0;31m:\u001b[0m invalid syntax\n"
     ]
    }
   ],
   "source": [
    "BuildStyle('greedy',G_nx,,community)"
   ]
  },
  {
   "cell_type": "markdown",
   "metadata": {},
   "source": [
    "##  upload the network"
   ]
  },
  {
   "cell_type": "code",
   "execution_count": 72,
   "metadata": {},
   "outputs": [
    {
     "name": "stdout",
     "output_type": "stream",
     "text": [
      "Success.  Please continue.\n"
     ]
    }
   ],
   "source": [
    "my_account=\"agis\"\n",
    "my_password=\"agis\"\n",
    "my_server=\"http://public.ndexbio.org\"\n",
    "\n",
    "if my_account == 'enter your username here':\n",
    "    print('*******WARNING!!!!*******')\n",
    "    print('Please change the username and password before proceeding')\n",
    "else:\n",
    "    try:\n",
    "        my_ndex=nc.Ndex2(my_server, my_account, my_password)\n",
    "        my_ndex.update_status()\n",
    "        print(\"Success.  Please continue.\")\n",
    "    except Exception as inst:\n",
    "        print(\"Could not access account %s with password %s\" % (my_account, my_password))\n",
    "        print(inst.args)"
   ]
  },
  {
   "cell_type": "code",
   "execution_count": 73,
   "metadata": {},
   "outputs": [
    {
     "name": "stdout",
     "output_type": "stream",
     "text": [
      "Generating CX\n",
      "http://public.ndexbio.org/v2/network/c5a5db96-c608-11e9-8bb4-0ac135e8bacf\n"
     ]
    }
   ],
   "source": [
    "upload_message=ncx_from_x.upload_to(my_server, my_account, my_password)\n",
    "print(upload_message)"
   ]
  },
  {
   "cell_type": "code",
   "execution_count": null,
   "metadata": {},
   "outputs": [],
   "source": []
  },
  {
   "cell_type": "markdown",
   "metadata": {},
   "source": [
    "# Step 4: Send data to Cytoscape"
   ]
  },
  {
   "cell_type": "code",
   "execution_count": 149,
   "metadata": {},
   "outputs": [
    {
     "name": "stdout",
     "output_type": "stream",
     "text": [
      "apiVersion v1\n",
      "cytoscapeVersion 3.7.1\n"
     ]
    }
   ],
   "source": [
    "HOST='192.168.1.47'\n",
    "PORT=1234\n",
    "\n",
    "#cy = cyrest.cyclient(host=HOST,port=PORT)\n",
    "cy = cyrest.cyclient(host=HOST,port=PORT)\n",
    "\n",
    "# Clear current session\n",
    "cy.version()\n"
   ]
  },
  {
   "cell_type": "markdown",
   "metadata": {},
   "source": [
    "Create a new session (Delete ALL data in current session)"
   ]
  },
  {
   "cell_type": "code",
   "execution_count": 150,
   "metadata": {},
   "outputs": [],
   "source": [
    "cy.session.new()"
   ]
  },
  {
   "cell_type": "markdown",
   "metadata": {},
   "source": [
    "Convert NetworkX object to CX"
   ]
  },
  {
   "cell_type": "code",
   "execution_count": 151,
   "metadata": {},
   "outputs": [
    {
     "name": "stdout",
     "output_type": "stream",
     "text": [
      "Generating CX\n"
     ]
    }
   ],
   "source": [
    "cxDict = ncx_from_x.to_cx()\n",
    "\n",
    "with open('py3sample_nx.cx', 'w') as outfile:\n",
    "    json.dump(cxDict, outfile)"
   ]
  },
  {
   "cell_type": "code",
   "execution_count": 152,
   "metadata": {},
   "outputs": [
    {
     "data": {
      "text/plain": [
       "'{\"networkSUID\":164}'"
      ]
     },
     "execution_count": 152,
     "metadata": {},
     "output_type": "execute_result"
    }
   ],
   "source": [
    "url = 'http://'+HOST+':'+str(PORT)+'/v1/networks?format=cx'\n",
    "response1 = requests.post(url, data=json.dumps(cxDict))\n",
    "response1.text"
   ]
  },
  {
   "cell_type": "code",
   "execution_count": null,
   "metadata": {},
   "outputs": [],
   "source": []
  }
 ],
 "metadata": {
  "kernelspec": {
   "display_name": "Python 3",
   "language": "python",
   "name": "python3"
  },
  "language_info": {
   "codemirror_mode": {
    "name": "ipython",
    "version": 3
   },
   "file_extension": ".py",
   "mimetype": "text/x-python",
   "name": "python",
   "nbconvert_exporter": "python",
   "pygments_lexer": "ipython3",
   "version": "3.6.8"
  }
 },
 "nbformat": 4,
 "nbformat_minor": 4
}
