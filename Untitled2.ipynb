{
 "cells": [
  {
   "cell_type": "code",
   "execution_count": 62,
   "metadata": {},
   "outputs": [],
   "source": [
    "from igraph import *\n",
    "\n",
    "g = Graph.Tree(127,2)\n",
    "g_density = g.density()\n",
    "g_transitivity = g.transitivity_undirected()\n",
    "g_vs_closeness = g.vs.closeness() # Closeness Centrarity\n",
    "g_vs_degree = g.vs.degree() # Degree\n",
    "g_vs_pagerank = g.vs.pagerank(directed = False) # PageRank\n",
    "g_vs_betweenness = g.vs.betweenness() # Betweenness Centrarity\n",
    "g_es_betweenness = g.es.edge_betweenness() # Edge Betweenness"
   ]
  },
  {
   "cell_type": "code",
   "execution_count": 63,
   "metadata": {},
   "outputs": [],
   "source": [
    "communities_greedy = g.community_fastgreedy()\n",
    "communities_leading = g.community_leading_eigenvector()\n",
    "communities_label_propagation = g.community_label_propagation()"
   ]
  },
  {
   "cell_type": "code",
   "execution_count": 72,
   "metadata": {},
   "outputs": [
    {
     "name": "stdout",
     "output_type": "stream",
     "text": [
      "Clustering with 127 elements and 9 clusters\n",
      "[0] 0, 1, 3, 7, 15, 16, 31, 32, 33, 34, 63, 64, 65, 66, 67, 68, 69, 70\n",
      "[1] 2, 5, 11, 23, 47, 48, 95, 96, 97, 98\n",
      "[2] 4, 9, 19, 20, 39, 40, 41, 42, 79, 80, 81, 82, 83, 84, 85, 86\n",
      "[3] 8, 17, 18, 35, 36, 37, 38, 71, 72, 73, 74, 75, 76, 77, 78\n",
      "[4] 10, 21, 22, 43, 44, 45, 46, 87, 88, 89, 90, 91, 92, 93, 94\n",
      "[5] 6, 13, 27, 28, 55, 56, 57, 58, 111, 112, 113, 114, 115, 116, 117, 118\n",
      "[6] 12, 25, 26, 51, 52, 53, 54, 103, 104, 105, 106, 107, 108, 109, 110\n",
      "[7] 24, 49, 50, 99, 100, 101, 102\n",
      "[8] 14, 29, 30, 59, 60, 61, 62, 119, 120, 121, 122, 123, 124, 125, 126\n",
      "<class 'int'>\n"
     ]
    }
   ],
   "source": [
    "print(communities_leading)\n",
    "print(type(communities_leading[0]))"
   ]
  },
  {
   "cell_type": "code",
   "execution_count": 74,
   "metadata": {},
   "outputs": [
    {
     "ename": "ValueError",
     "evalue": "iterable must yield integers",
     "output_type": "error",
     "traceback": [
      "\u001b[0;31m---------------------------------------------------------------------------\u001b[0m",
      "\u001b[0;31mValueError\u001b[0m                                Traceback (most recent call last)",
      "\u001b[0;32m<ipython-input-74-d72872bd5c09>\u001b[0m in \u001b[0;36m<module>\u001b[0;34m\u001b[0m\n\u001b[0;32m----> 1\u001b[0;31m \u001b[0mes_community_greedy\u001b[0m \u001b[0;34m=\u001b[0m \u001b[0mg\u001b[0m\u001b[0;34m.\u001b[0m\u001b[0mget_eids\u001b[0m\u001b[0;34m(\u001b[0m\u001b[0mpath\u001b[0m\u001b[0;34m=\u001b[0m\u001b[0mcommunities_leading\u001b[0m\u001b[0;34m)\u001b[0m\u001b[0;34m\u001b[0m\u001b[0;34m\u001b[0m\u001b[0m\n\u001b[0m",
      "\u001b[0;31mValueError\u001b[0m: iterable must yield integers"
     ]
    }
   ],
   "source": [
    "es_community_greedy = g.get_eids(path=communities_leading)\n"
   ]
  },
  {
   "cell_type": "code",
   "execution_count": null,
   "metadata": {},
   "outputs": [],
   "source": []
  }
 ],
 "metadata": {
  "kernelspec": {
   "display_name": "Python 3",
   "language": "python",
   "name": "python3"
  },
  "language_info": {
   "codemirror_mode": {
    "name": "ipython",
    "version": 3
   },
   "file_extension": ".py",
   "mimetype": "text/x-python",
   "name": "python",
   "nbconvert_exporter": "python",
   "pygments_lexer": "ipython3",
   "version": "3.6.8"
  }
 },
 "nbformat": 4,
 "nbformat_minor": 4
}
