{
 "cells": [
  {
   "cell_type": "code",
   "execution_count": 61,
   "metadata": {},
   "outputs": [],
   "source": [
    "import pandas as pd\n",
    "import igraph\n",
    "import numpy as np\n",
    "import pdb\n",
    "from ndex2.nice_cx_network import NiceCXNetwork\n",
    "import ndex2.client as nc\n",
    "import ndex2\n",
    "import networkx as nx\n",
    "from fa2 import ForceAtlas2"
   ]
  },
  {
   "cell_type": "markdown",
   "metadata": {},
   "source": [
    "#from https://github.com/idekerlab/cy-rest-R/blob/develop/workflow1_structure_based_visualization.R"
   ]
  },
  {
   "cell_type": "markdown",
   "metadata": {},
   "source": [
    "# Step 1: Network Data Preparation"
   ]
  },
  {
   "cell_type": "markdown",
   "metadata": {},
   "source": [
    "Load network from NDEx"
   ]
  },
  {
   "cell_type": "code",
   "execution_count": 2,
   "metadata": {},
   "outputs": [],
   "source": [
    "# nice_cx_network = ndex2.create_nice_cx_from_server(server='public.ndexbio.org', uuid='c060aff9-86d4-11e7-a10d-0ac135e8bacf')\n",
    "nice_cx_network = ndex2.create_nice_cx_from_server(server='public.ndexbio.org', uuid='f1dd6cc3-0007-11e6-b550-06603eb7f303')\n",
    "# nice_cx_network =  ndex2.create_nice_cx_from_server(server='public.ndexbio.org', uuid='ff8e7def-6e09-11e9-848d-0ac135e8bacf')"
   ]
  },
  {
   "cell_type": "code",
   "execution_count": 3,
   "metadata": {},
   "outputs": [
    {
     "name": "stdout",
     "output_type": "stream",
     "text": [
      "Name: CoCaNet2\n",
      "Nodes: 36\n",
      "Edges: 37\n",
      "Node Attributes: 706\n",
      "Edge Attributes: 517\n",
      "\n"
     ]
    }
   ],
   "source": [
    "nice_cx_network.print_summary()"
   ]
  },
  {
   "cell_type": "code",
   "execution_count": 4,
   "metadata": {},
   "outputs": [],
   "source": [
    "nice_cx_from_server_df=nice_cx_network.to_pandas_dataframe()"
   ]
  },
  {
   "cell_type": "code",
   "execution_count": 5,
   "metadata": {},
   "outputs": [
    {
     "data": {
      "text/html": [
       "<div>\n",
       "<style scoped>\n",
       "    .dataframe tbody tr th:only-of-type {\n",
       "        vertical-align: middle;\n",
       "    }\n",
       "\n",
       "    .dataframe tbody tr th {\n",
       "        vertical-align: top;\n",
       "    }\n",
       "\n",
       "    .dataframe thead th {\n",
       "        text-align: right;\n",
       "    }\n",
       "</style>\n",
       "<table border=\"1\" class=\"dataframe\">\n",
       "  <thead>\n",
       "    <tr style=\"text-align: right;\">\n",
       "      <th></th>\n",
       "      <th>source</th>\n",
       "      <th>interaction</th>\n",
       "      <th>target</th>\n",
       "    </tr>\n",
       "  </thead>\n",
       "  <tbody>\n",
       "    <tr>\n",
       "      <th>0</th>\n",
       "      <td>druggable</td>\n",
       "      <td>pp</td>\n",
       "      <td>TS</td>\n",
       "    </tr>\n",
       "    <tr>\n",
       "      <th>1</th>\n",
       "      <td>DHFR</td>\n",
       "      <td>pp</td>\n",
       "      <td>MAPK1</td>\n",
       "    </tr>\n",
       "    <tr>\n",
       "      <th>2</th>\n",
       "      <td>CHEK1</td>\n",
       "      <td>pp</td>\n",
       "      <td>BLM</td>\n",
       "    </tr>\n",
       "    <tr>\n",
       "      <th>3</th>\n",
       "      <td>IMPDH1</td>\n",
       "      <td>pp</td>\n",
       "      <td>MTIF2</td>\n",
       "    </tr>\n",
       "    <tr>\n",
       "      <th>4</th>\n",
       "      <td>IMPDH1</td>\n",
       "      <td>pp</td>\n",
       "      <td>ING5</td>\n",
       "    </tr>\n",
       "  </tbody>\n",
       "</table>\n",
       "</div>"
      ],
      "text/plain": [
       "      source interaction target\n",
       "0  druggable          pp     TS\n",
       "1       DHFR          pp  MAPK1\n",
       "2      CHEK1          pp    BLM\n",
       "3     IMPDH1          pp  MTIF2\n",
       "4     IMPDH1          pp   ING5"
      ]
     },
     "execution_count": 5,
     "metadata": {},
     "output_type": "execute_result"
    }
   ],
   "source": [
    "nice_cx_from_server_df.head()"
   ]
  },
  {
   "cell_type": "markdown",
   "metadata": {},
   "source": [
    "Convert it to simple edge list"
   ]
  },
  {
   "cell_type": "code",
   "execution_count": 6,
   "metadata": {},
   "outputs": [],
   "source": [
    "edgelist=nice_cx_from_server_df.iloc[:,[0,2]]"
   ]
  },
  {
   "cell_type": "markdown",
   "metadata": {},
   "source": [
    "Convert DF to undirected igraph object\n",
    "This is a PPI network, so import as undirected."
   ]
  },
  {
   "cell_type": "code",
   "execution_count": 7,
   "metadata": {},
   "outputs": [],
   "source": [
    "tuples=[tuple(x) for x in edgelist.values]\n",
    "g_original = igraph.Graph.TupleList(tuples,directed=False)"
   ]
  },
  {
   "cell_type": "markdown",
   "metadata": {},
   "source": [
    "Extract componentes (individual connected subgraphs)"
   ]
  },
  {
   "cell_type": "code",
   "execution_count": 8,
   "metadata": {},
   "outputs": [],
   "source": [
    "subgraphs=g_original.decompose()"
   ]
  },
  {
   "cell_type": "markdown",
   "metadata": {},
   "source": [
    "Pick largest subgraph"
   ]
  },
  {
   "cell_type": "code",
   "execution_count": 9,
   "metadata": {},
   "outputs": [],
   "source": [
    "tmp=[i.vcount() for i in subgraphs]\n",
    "largeset_subgraph = subgraphs[tmp.index(max(tmp))]"
   ]
  },
  {
   "cell_type": "markdown",
   "metadata": {},
   "source": [
    "Remove duplicate edges"
   ]
  },
  {
   "cell_type": "code",
   "execution_count": 10,
   "metadata": {},
   "outputs": [],
   "source": [
    "g = largeset_subgraph.simplify(multiple=True, loops=True)\n",
    "g.name = \"Yeast network\""
   ]
  },
  {
   "cell_type": "markdown",
   "metadata": {},
   "source": [
    "# Step 2: Basic statistical analysis"
   ]
  },
  {
   "cell_type": "markdown",
   "metadata": {},
   "source": [
    "Global Network Statics"
   ]
  },
  {
   "cell_type": "code",
   "execution_count": 11,
   "metadata": {},
   "outputs": [
    {
     "name": "stdout",
     "output_type": "stream",
     "text": [
      "Density: 0.07881773399014778\n",
      "Transitivity: 0.045454545454545456\n"
     ]
    }
   ],
   "source": [
    "print(\"Density:\",g.density())\n",
    "print(\"Transitivity:\",g.transitivity_undirected())"
   ]
  },
  {
   "cell_type": "markdown",
   "metadata": {},
   "source": [
    "Node statistics"
   ]
  },
  {
   "cell_type": "code",
   "execution_count": 12,
   "metadata": {},
   "outputs": [],
   "source": [
    "g_closeness = g.vs.closeness() # Closeness Centrarity\n",
    "g_degree = g.vs.degree() # Degree\n",
    "g_pagerank = g.vs.pagerank(directed = False) # PageRank\n",
    "g_vs_betweenness = g.vs.betweenness() # Betweenness Centrarity"
   ]
  },
  {
   "cell_type": "markdown",
   "metadata": {},
   "source": [
    "Edge statics"
   ]
  },
  {
   "cell_type": "code",
   "execution_count": 13,
   "metadata": {},
   "outputs": [],
   "source": [
    "g_es_betweenness = g.es.edge_betweenness() # Edge Betweenness"
   ]
  },
  {
   "cell_type": "markdown",
   "metadata": {},
   "source": [
    "# Step 3: Community Detection: Try multiple algorithms"
   ]
  },
  {
   "cell_type": "markdown",
   "metadata": {},
   "source": [
    "Clustering"
   ]
  },
  {
   "cell_type": "code",
   "execution_count": 14,
   "metadata": {},
   "outputs": [],
   "source": [
    "communities_greedy = g.community_fastgreedy().as_clustering()\n",
    "communities_leading = g.community_leading_eigenvector()\n",
    "communities_label_propagation = g.community_label_propagation()"
   ]
  },
  {
   "cell_type": "code",
   "execution_count": 15,
   "metadata": {},
   "outputs": [],
   "source": [
    "v_community_greedy = communities_greedy.membership\n",
    "v_community_leading = communities_leading.membership\n",
    "v_community_label_propagation = communities_label_propagation.membership"
   ]
  },
  {
   "cell_type": "code",
   "execution_count": 16,
   "metadata": {},
   "outputs": [],
   "source": [
    "def getCommunityEdge(g, community):\n",
    "    num_edges = g.ecount()\n",
    "    edge_community = [-1]*num_edges\n",
    "    comms = community\n",
    "    sources=[i for i, _ in g.get_edgelist()]\n",
    "    targets=[j for _, j in g.get_edgelist()]\n",
    "    for i in range(num_edges):\n",
    "        sidx = sources[i]\n",
    "        tidx = targets[i]\n",
    "        source = comms[sidx]\n",
    "        target = comms[tidx]\n",
    "        \n",
    "        if source == target:\n",
    "            edge_community[i] = source\n",
    "    return edge_community\n",
    "    "
   ]
  },
  {
   "cell_type": "code",
   "execution_count": 17,
   "metadata": {},
   "outputs": [],
   "source": [
    "e_commnity_greedy = getCommunityEdge(g, v_community_greedy)\n",
    "e_commnity_leading = getCommunityEdge(g, v_community_leading)\n",
    "e_community_label_propagation = getCommunityEdge(g, v_community_label_propagation)"
   ]
  },
  {
   "cell_type": "markdown",
   "metadata": {},
   "source": [
    "## Community to Colors"
   ]
  },
  {
   "cell_type": "code",
   "execution_count": 18,
   "metadata": {},
   "outputs": [],
   "source": [
    "import seaborn as sns"
   ]
  },
  {
   "cell_type": "code",
   "execution_count": 19,
   "metadata": {},
   "outputs": [],
   "source": [
    "def communityToColors(members):\n",
    "    basecolor='#AAAAAA'\n",
    "    num_members=len(members)\n",
    "    num_communities=max(members)+1\n",
    "    colors = [basecolor]*num_members\n",
    "    \n",
    "    colorp = sns.color_palette(\"hls\", num_communities)\n",
    "    \n",
    "#     sns.palplot(colorp)\n",
    "    \n",
    "    #print(num_communities,num_members)\n",
    "    colorpalette=[rgb2hex(int(a[0]*255),int(a[1]*255),int(a[2]*255)) for a in colorp]\n",
    "    \n",
    "    for i in range(num_members):\n",
    "        newcolor = colorpalette[members[i]]\n",
    "        if( members[i] == -1 ):\n",
    "            newcolor = basecolor\n",
    "        colors[i] = newcolor\n",
    "    return colors\n",
    "\n",
    "def rgb2hex(r,g,b): #RGB配列からHTMLなどに使われる16進数表現へ\n",
    "    # r , g , b = 0 〜 255 # int型\n",
    "    color = (r, g , b)\n",
    "    html_color = '#%02X%02X%02X' % (color[0],color[1],color[2])\n",
    "    return html_color\n"
   ]
  },
  {
   "cell_type": "code",
   "execution_count": 20,
   "metadata": {},
   "outputs": [],
   "source": [
    "g.vs['color'] = communityToColors(communities_greedy.membership)\n",
    "g.es['color'] = communityToColors(e_commnity_greedy)"
   ]
  },
  {
   "cell_type": "markdown",
   "metadata": {},
   "source": [
    "## Convert igraph to networkx"
   ]
  },
  {
   "cell_type": "code",
   "execution_count": 21,
   "metadata": {},
   "outputs": [],
   "source": [
    "def search_interaction(df,src,tgt):\n",
    "    if len(df[(df['source']==src) & (df['target']==tgt)]):\n",
    "        return df[(df['source']==src) & (df['target']==tgt)]['interaction'].values[0]\n",
    "    else:\n",
    "        return df[(df['source']==tgt) & (df['target']==src)]['interaction'].values[0]"
   ]
  },
  {
   "cell_type": "code",
   "execution_count": 22,
   "metadata": {},
   "outputs": [],
   "source": [
    "G_nx=nx.Graph()\n",
    "for i in range(g.vcount()):\n",
    "    G_nx.add_node(g.vs['name'][i])\n",
    "for i,j in g.get_edgelist():\n",
    "    G_nx.add_edge(g.vs['name'][i],g.vs['name'][j])"
   ]
  },
  {
   "cell_type": "markdown",
   "metadata": {},
   "source": [
    "# py2cytoscape basic setup\n",
    "## Setting up py2cytoscape client\n",
    "\n",
    "Many of the Legacy APIs are deprecated.  Check this document as the reference:\n",
    "\n",
    "https://py2cytoscape.readthedocs.io/en/latest/\n",
    "\n",
    "### For native version users (running from host)\n",
    "You don't have to specify IP since you are running both Jupyter and Cytoscape form the same host\n",
    "\n",
    "### For Docker users\n",
    "You shoulod check the IP address of your host system (i.e., workstation's IP) and pass it to the client."
   ]
  },
  {
   "cell_type": "code",
   "execution_count": 23,
   "metadata": {},
   "outputs": [
    {
     "name": "stdout",
     "output_type": "stream",
     "text": [
      "apiVersion v1\n",
      "cytoscapeVersion 3.7.1\n",
      "CyREST online!\n"
     ]
    }
   ],
   "source": [
    "from py2cytoscape import cyrest\n",
    "\n",
    "# This should be changed to your host IP\n",
    "host_ip = '127.0.0.1'\n",
    "cytoscape=cyrest.cyclient(host=host_ip)\n",
    "cytoscape.version()\n",
    "cytoscape.status()"
   ]
  },
  {
   "cell_type": "code",
   "execution_count": 24,
   "metadata": {},
   "outputs": [],
   "source": [
    "# Delete current session and start a new one\n",
    "cytoscape.session.new()"
   ]
  },
  {
   "cell_type": "markdown",
   "metadata": {},
   "source": [
    "## Layout using by ForceAtlas2"
   ]
  },
  {
   "cell_type": "code",
   "execution_count": 62,
   "metadata": {},
   "outputs": [
    {
     "name": "stderr",
     "output_type": "stream",
     "text": [
      "100%|██████████| 2000/2000 [00:00<00:00, 17912.93it/s]\n",
      "100%|██████████| 2000/2000 [00:00<00:00, 20190.01it/s]\n"
     ]
    },
    {
     "name": "stdout",
     "output_type": "stream",
     "text": [
      "BarnesHut Approximation  took  0.03  seconds\n",
      "Repulsion forces  took  0.04  seconds\n",
      "Gravitational forces  took  0.00  seconds\n",
      "Attraction forces  took  0.00  seconds\n",
      "AdjustSpeedAndApplyForces step  took  0.01  seconds\n",
      "BarnesHut Approximation  took  0.03  seconds\n",
      "Repulsion forces  took  0.04  seconds\n",
      "Gravitational forces  took  0.00  seconds\n",
      "Attraction forces  took  0.00  seconds\n",
      "AdjustSpeedAndApplyForces step  took  0.01  seconds\n"
     ]
    },
    {
     "data": {
      "image/png": "[encoded data removed]",
      "text/plain": [
       "<Figure size 432x288 with 1 Axes>"
      ]
     },
     "metadata": {},
     "output_type": "display_data"
    }
   ],
   "source": [
    "import networkx as nx\n",
    "from fa2 import ForceAtlas2\n",
    "import matplotlib.pyplot as plt\n",
    "\n",
    "# G = nx.random_geometric_graph(400, 0.2)\n",
    "\n",
    "forceatlas2 = ForceAtlas2(\n",
    "                        # Behavior alternatives\n",
    "                        outboundAttractionDistribution=True,  # Dissuade hubs\n",
    "                        linLogMode=False,  # NOT IMPLEMENTED\n",
    "                        adjustSizes=False,  # Prevent overlap (NOT IMPLEMENTED)\n",
    "                        edgeWeightInfluence=1.0,\n",
    "\n",
    "                        # Performance\n",
    "                        jitterTolerance=1.0,  # Tolerance\n",
    "                        barnesHutOptimize=True,\n",
    "                        barnesHutTheta=1.2,\n",
    "                        multiThreaded=False,  # NOT IMPLEMENTED\n",
    "\n",
    "                        # Tuning\n",
    "                        scalingRatio=20,\n",
    "                        strongGravityMode=False,\n",
    "                        gravity=10,\n",
    "\n",
    "                        # Log\n",
    "                        verbose=True)\n",
    "\n",
    "positions = forceatlas2.forceatlas2_igraph_layout(g, pos=None, iterations=2000)\n",
    "positions_x = forceatlas2.forceatlas2_networkx_layout(G_nx, pos=None, iterations=2000)\n",
    "\n",
    "nx.draw_networkx_nodes(G_nx, positions_x, node_size=20, with_labels=False, node_color=\"blue\", alpha=0.4)\n",
    "nx.draw_networkx_edges(G_nx, positions_x, edge_color=\"green\", alpha=0.05)\n",
    "plt.axis('off')\n",
    "plt.show()\n"
   ]
  },
  {
   "cell_type": "markdown",
   "metadata": {},
   "source": [
    "### Convert \"positions\" to \"certesian\""
   ]
  },
  {
   "cell_type": "code",
   "execution_count": 60,
   "metadata": {},
   "outputs": [
    {
     "name": "stdout",
     "output_type": "stream",
     "text": [
      "[{'node': 0, 'x': -2.7372957779000573, 'y': 7.290408889433638}, {'node': 1, 'x': 0.22587891981605296, 'y': 0.08874169623846764}, {'node': 2, 'x': -34.152983594566905, 'y': 0.02766745509179659}, {'node': 3, 'x': -18.651378936840718, 'y': 0.4093239670245606}, {'node': 4, 'x': -40.9164138350429, 'y': 21.126708717727222}, {'node': 5, 'x': -63.262373440471734, 'y': -4.215374039137209}, {'node': 6, 'x': -47.039322283534155, 'y': -58.82464772325614}, {'node': 7, 'x': -33.245722732808325, 'y': -41.650993863031445}, {'node': 8, 'x': -35.731430386727226, 'y': -24.41563265014395}, {'node': 9, 'x': -2.7815625239048885, 'y': -17.9966875421768}, {'node': 10, 'x': -2.740794308369255, 'y': -38.11860638348341}, {'node': 11, 'x': 12.502668782883175, 'y': -17.029439822864248}, {'node': 12, 'x': 30.03931693543012, 'y': 32.76223376596596}, {'node': 13, 'x': 14.417994708282462, 'y': 38.09374008262301}, {'node': 14, 'x': 45.88030378970868, 'y': 31.420683293804835}, {'node': 15, 'x': -58.577263256962866, 'y': 28.596427585824248}, {'node': 16, 'x': -36.60678578839153, 'y': 53.60104555262502}, {'node': 17, 'x': -46.00728954508427, 'y': 75.86880296040016}, {'node': 18, 'x': 14.209982329879555, 'y': 2.2984308651003422}, {'node': 19, 'x': 29.333140490693406, 'y': 8.786588835806919}, {'node': 20, 'x': -2.8081650444242365, 'y': 49.10824677948276}, {'node': 21, 'x': -2.7813701889445, 'y': 29.1357766057735}, {'node': 22, 'x': 10.598914065588904, 'y': 79.08943225752074}, {'node': 23, 'x': 9.607833359536473, 'y': -54.381854629777756}, {'node': 24, 'x': 4.53210338161532, 'y': -76.664646564932}, {'node': 25, 'x': 32.426267255958074, 'y': -43.89834985731199}, {'node': 26, 'x': 42.24020986947712, 'y': -22.107342862531052}, {'node': 27, 'x': 84.3568908553764, 'y': -6.953207105009271}, {'node': 28, 'x': 76.57905910453142, 'y': -36.803485908432094}]\n"
     ]
    }
   ],
   "source": [
    "\n",
    "\n",
    "# positions = list(positions)\n",
    "\n",
    "# certesian = [{'node':i,'x': float(positions[n][0]),'y': float(positions[n][1])}for i, n in enumerate(positions)]\n",
    "certesian = [{'node':i,'x': list(positions)[i][0],'y': list(positions)[i][1]}for i in range(len(positions))]\n",
    "\n",
    "print(certesian)"
   ]
  },
  {
   "cell_type": "code",
   "execution_count": 28,
   "metadata": {},
   "outputs": [],
   "source": [
    "ncx_from_x=ndex2.create_nice_cx_from_networkx(G_nx)\n",
    "\n",
    "for i in range(g.vcount()):\n",
    "    ncx_from_x.set_node_attribute(i, \"closeness\", g_closeness[i])\n",
    "    ncx_from_x.set_node_attribute(i, \"degree\", g_degree[i])\n",
    "    ncx_from_x.set_node_attribute(i, \"pagerank\", g_pagerank[i])\n",
    "    ncx_from_x.set_node_attribute(i, \"betweenness\", g_vs_betweenness[i])\n",
    "    ncx_from_x.set_node_attribute(i, \"community.greedy\", v_community_greedy[i])\n",
    "    ncx_from_x.set_node_attribute(i, \"community.leading\", v_community_leading[i])\n",
    "    ncx_from_x.set_node_attribute(i, \"community.label.propagation\", v_community_label_propagation[i])\n",
    "    ncx_from_x.set_node_attribute(i, \"colors.community.greedy\", communityToColors(v_community_greedy)[i])\n",
    "    ncx_from_x.set_node_attribute(i, \"colors.community.leading\", communityToColors(v_community_leading)[i])\n",
    "    ncx_from_x.set_node_attribute(i, \"colors.community.label.propagation\", communityToColors(v_community_label_propagation)[i])\n",
    " \n",
    "\n",
    "\n",
    "for i in range(g.ecount()):\n",
    "    ncx_from_x.set_edge_attribute(i, \"betweenness.edge\", g_es_betweenness[i])\n",
    "    ncx_from_x.set_edge_attribute(i, \"community.greedy\", e_commnity_greedy[i])\n",
    "    ncx_from_x.set_edge_attribute(i, \"community.leading\", e_commnity_leading[i])\n",
    "    ncx_from_x.set_edge_attribute(i, \"community.label.propagation\", e_community_label_propagation[i])\n",
    "    ncx_from_x.set_edge_attribute(i, \"colors.community.greedy\", communityToColors(e_commnity_greedy)[i])\n",
    "    ncx_from_x.set_edge_attribute(i, \"colors.community.leading\", communityToColors(e_commnity_leading)[i])\n",
    "    ncx_from_x.set_edge_attribute(i, \"colors.community.label.propagation\", communityToColors(e_community_label_propagation)[i])\n",
    "    \n"
   ]
  },
  {
   "cell_type": "markdown",
   "metadata": {},
   "source": [
    "### Apply \"certesian\" to NiceCX"
   ]
  },
  {
   "cell_type": "code",
   "execution_count": 29,
   "metadata": {},
   "outputs": [
    {
     "name": "stdout",
     "output_type": "stream",
     "text": [
      "<class 'str'>\n"
     ]
    }
   ],
   "source": [
    "print(type(ncx_from_x.VISUAL_PROPERTIES))\n",
    "# ncx_from_x.set_opaque_aspect(\"VISUAL_PROPERTIES\",colors)\n",
    "\n",
    "ncx_from_x.apply_template('public.ndexbio.org','92084251-c859-11e9-aa81-0ac135e8bacf')\n",
    "\n",
    "ncx_from_x.set_opaque_aspect(\"cartesianLayout\", certesian)"
   ]
  },
  {
   "cell_type": "markdown",
   "metadata": {},
   "source": [
    "## Send to Cytoscape"
   ]
  },
  {
   "cell_type": "code",
   "execution_count": 66,
   "metadata": {},
   "outputs": [
    {
     "name": "stdout",
     "output_type": "stream",
     "text": [
      "Generating CX\n",
      "http://127.0.0.1:1234/cyndex2/v1/networks/cx\n",
      "{'data': {'suid': 202, 'uuid': ''}, 'errors': []}\n"
     ]
    }
   ],
   "source": [
    "import requests\n",
    "\n",
    "cxobj = ncx_from_x.to_cx()\n",
    "cyrest_url = 'http://' + host_ip + ':1234/cyndex2/v1/networks/cx'\n",
    "print(cyrest_url)\n",
    "response = requests.post(cyrest_url, data=json.dumps(cxobj))\n",
    "print(response.json())"
   ]
  },
  {
   "cell_type": "markdown",
   "metadata": {},
   "source": [
    "##  upload the network"
   ]
  },
  {
   "cell_type": "code",
   "execution_count": 33,
   "metadata": {},
   "outputs": [
    {
     "name": "stdout",
     "output_type": "stream",
     "text": [
      "Success.  Please continue.\n"
     ]
    }
   ],
   "source": [
    "my_account=\"am\"\n",
    "my_password=\"ndexpassword\"\n",
    "my_server=\"http://public.ndexbio.org\"\n",
    "\n",
    "if my_account == 'enter your username here':\n",
    "    print('*******WARNING!!!!*******')\n",
    "    print('Please change the username and password before proceeding')\n",
    "else:\n",
    "    try:\n",
    "        my_ndex=nc.Ndex2(my_server, my_account, my_password)\n",
    "        my_ndex.update_status()\n",
    "        print(\"Success.  Please continue.\")\n",
    "    except Exception as inst:\n",
    "        print(\"Could not access account %s with password %s\" % (my_account, my_password))\n",
    "        print(inst.args)"
   ]
  },
  {
   "cell_type": "code",
   "execution_count": 34,
   "metadata": {},
   "outputs": [
    {
     "name": "stdout",
     "output_type": "stream",
     "text": [
      "Generating CX\n",
      "http://public.ndexbio.org/v2/network/2b5ef125-c911-11e9-aa81-0ac135e8bacf\n"
     ]
    }
   ],
   "source": [
    "upload_message=ncx_from_x.upload_to(my_server, my_account, my_password)\n",
    "print(upload_message)"
   ]
  },
  {
   "cell_type": "code",
   "execution_count": null,
   "metadata": {},
   "outputs": [],
   "source": []
  },
  {
   "cell_type": "markdown",
   "metadata": {},
   "source": [
    "# Step 4: Send data to Cytoscape"
   ]
  },
  {
   "cell_type": "markdown",
   "metadata": {},
   "source": [
    "## BuildStyle"
   ]
  },
  {
   "cell_type": "code",
   "execution_count": null,
   "metadata": {},
   "outputs": [],
   "source": [
    "def BuildStyle(style_name, g, colors, community):\n",
    "    # Prepare Defaults\n",
    "    def_node_border_widh = {\"visualProperty\":\"NODE_BORDER_WIDTH\",\n",
    "                           \"value\":0}\n",
    "    def_node_transparency = {\"visualProperty\":\"NODE_TRANSPARENCY\",\n",
    "                            \"value\":230}\n",
    "    def_edge_transparency = {\"visualProperty\":\"EDGE_TRANSPARENCY\",\n",
    "                            \"value\":120}\n",
    "    def_edge_widh = {\"visualProperty\":\"EDGE_WIDTH\",\n",
    "                    \"value\":2}\n",
    "    def_network_background = {\"visualProperty\":\"NETWORK_BACKGROUND_PAINT\",\n",
    "                             \"value\":\"black\"}\n",
    "    \n",
    "    defaults = [def_node_border_widh,\n",
    "               def_node_transparency,\n",
    "               def_edge_transparency,\n",
    "               def_edge_widh,\n",
    "               def_network_background]\n",
    "    \n",
    "    #Mappings\n",
    "    mapping = []\n",
    "    \n",
    "    #Color mappings\n",
    "    node_fill_color = {\"mappingType\":\"passthrough\",\n",
    "                       \"mappingColumns\":colors,\n",
    "                       \"mappingColumnType\":\"String\",\n",
    "                       \"visualProperty\":\"NODE_FILL_COLOR\"}\n",
    "    \n",
    "    edge_color = {\"mappingType\":\"passthrough\",\n",
    "                  \"mappingColumn\":colors,\n",
    "                  \"mappingColumnType\":\"String\",\n",
    "                  \"visualProperty\":\"EDGE_STROKE_UNSELECTED_PAINT\"}\n",
    "    \n",
    "    #Node Size Mapping\n",
    "    min_betweenness = min(g.vs.betweenness())\n",
    "    max_betweenness = max(g.vs.betweenness())\n",
    "    \n",
    "    point1 = {\"value\":min_betweenness,\n",
    "              \"lesser\":\"5.0\",\n",
    "              \"equal\":\"5.0\",\n",
    "              \"greater\":\"5.0\"}\n",
    "    \n",
    "    point2 = {\"value\":max_betweenness,\n",
    "              \"lesser\":\"100.0\",\n",
    "              \"equal\":\"100.0\",\n",
    "              \"greater\":\"100.0\"}\n",
    "    \n",
    "    node_size_continuous_points = [point1,point2]\n",
    "    \n",
    "    node_size = {\"mappingType\":\"continuous\",\n",
    "                 \"mappingColumn\":\"betweenness\",\n",
    "                 \"mappingColumnType\":\"Double\",\n",
    "                 \"visualProperty\":\"NODE_SIZE\",\n",
    "                 \"points\":node_size_continuous_points}\n",
    "    \n",
    "    edge_trans_point = {\"value\":1.0,\n",
    "                        \"lesser\":\"40\",\n",
    "                        \"equal\":\"200\",\n",
    "                        \"greater\":\"200\"}\n",
    "    edge_trans_continuous_points = [edge_trans_point]\n",
    "    \n",
    "    edge_trans = {\"mappingType\":\"continuous\",\n",
    "                 \"mappingColumn\":community,\n",
    "                 \"mappingColumnType\":\"Double\",\n",
    "                 \"visualProperty\":\"EDGE_TRANSPARENCY\",\n",
    "                 \"points\":edge_trans_continuous_points}\n",
    "    \n",
    "    mappings = [node_fill_color, edge_color, node_size, edge_trans]\n",
    "    \n",
    "    style = {\"title\":style_name, \"default\":defaults, \"mapping\":mappings}\n",
    "    \n",
    "    return style"
   ]
  },
  {
   "cell_type": "code",
   "execution_count": null,
   "metadata": {},
   "outputs": [],
   "source": [
    "style=BuildStyle('greedy',g,colors=\"vs['color']\",community=\"community_fastgreedy().as_clustering().membership\")"
   ]
  },
  {
   "cell_type": "code",
   "execution_count": null,
   "metadata": {},
   "outputs": [],
   "source": [
    "import json"
   ]
  },
  {
   "cell_type": "code",
   "execution_count": null,
   "metadata": {},
   "outputs": [],
   "source": [
    "a = json.dumps(style)\n",
    "b = py2cytoscape.util.from_igraph(g)"
   ]
  },
  {
   "cell_type": "code",
   "execution_count": null,
   "metadata": {},
   "outputs": [],
   "source": [
    "url='http://localhost:1234/v1/styles'\n",
    "response1 = requests.post(url, a)\n",
    "response1.text"
   ]
  },
  {
   "cell_type": "code",
   "execution_count": null,
   "metadata": {},
   "outputs": [],
   "source": [
    "def BuildStyle_simple(style_name, g, colors):\n",
    "    # Prepare Defaults\n",
    "    def_node_border_widh = {\"visualProperty\":\"NODE_BORDER_WIDTH\",\n",
    "                           \"value\":0}\n",
    "    def_edge_widh = {\"visualProperty\":\"EDGE_WIDTH\",\n",
    "                    \"value\":2}\n",
    "    def_network_background = {\"visualProperty\":\"NETWORK_BACKGROUND_PAINT\",\n",
    "                             \"value\":\"black\"}\n",
    "    \n",
    "    defaults = [def_node_border_widh,\n",
    "               def_network_background]\n",
    "    \n",
    "    #Mappings\n",
    "    mapping = []\n",
    "    \n",
    "    #Color mappings\n",
    "    node_fill_color = {\"mappingType\":\"passthrough\",\n",
    "                       \"mappingColumns\":colors,\n",
    "                       \"mappingColumnType\":\"String\",\n",
    "                       \"visualProperty\":\"NODE_FILL_COLOR\"}\n",
    "    \n",
    "    edge_color = {\"mappingType\":\"passthrough\",\n",
    "                  \"mappingColumn\":colors,\n",
    "                  \"mappingColumnType\":\"String\",\n",
    "                  \"visualProperty\":\"EDGE_STROKE_UNSELECTED_PAINT\"}\n",
    "    node_label = {\"mappingType\":\"passthrough\",\n",
    "                 \"mappingColumn\":\"name\",\n",
    "                 \"mappingColumnType\":\"String\",\n",
    "                 \"visualProperty\":\"NODE_LABEL\"}\n",
    "    \n",
    "    mappings = [node_fill_color, edge_color, node_label]\n",
    "    \n",
    "    style = {\"title\":style_name, \"default\":defaults, \"mapping\":mappings}\n",
    "    \n",
    "    return style"
   ]
  },
  {
   "cell_type": "code",
   "execution_count": null,
   "metadata": {},
   "outputs": [],
   "source": [
    "style=BuildStyle_simple('greedy',g,colors=\"vs['color']\")"
   ]
  },
  {
   "cell_type": "code",
   "execution_count": null,
   "metadata": {},
   "outputs": [],
   "source": []
  },
  {
   "cell_type": "code",
   "execution_count": null,
   "metadata": {},
   "outputs": [],
   "source": []
  },
  {
   "cell_type": "code",
   "execution_count": null,
   "metadata": {},
   "outputs": [],
   "source": []
  }
 ],
 "metadata": {
  "kernelspec": {
   "display_name": "Python 3",
   "language": "python",
   "name": "python3"
  },
  "language_info": {
   "codemirror_mode": {
    "name": "ipython",
    "version": 3
   },
   "file_extension": ".py",
   "mimetype": "text/x-python",
   "name": "python",
   "nbconvert_exporter": "python",
   "pygments_lexer": "ipython3",
   "version": "3.7.1"
  }
 },
 "nbformat": 4,
 "nbformat_minor": 4
}
