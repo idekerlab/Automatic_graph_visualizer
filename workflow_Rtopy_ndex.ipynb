{
 "cells": [
  {
   "cell_type": "code",
   "execution_count": 75,
   "metadata": {},
   "outputs": [],
   "source": [
    "import pandas as pd\n",
    "import igraph\n",
    "import numpy as np\n",
    "import pdb\n",
    "from ndex2.nice_cx_network import NiceCXNetwork\n",
    "import ndex2.client as nc\n",
    "import ndex2\n",
    "import networkx as nx\n",
    "from fa2 import ForceAtlas2"
   ]
  },
  {
   "cell_type": "markdown",
   "metadata": {},
   "source": [
    "#from https://github.com/idekerlab/cy-rest-R/blob/develop/workflow1_structure_based_visualization.R"
   ]
  },
  {
   "cell_type": "markdown",
   "metadata": {},
   "source": [
    "# Step 1: Network Data Preparation"
   ]
  },
  {
   "cell_type": "markdown",
   "metadata": {},
   "source": [
    "Load network from NDEx"
   ]
  },
  {
   "cell_type": "code",
   "execution_count": 76,
   "metadata": {},
   "outputs": [],
   "source": [
    "# nice_cx_network = ndex2.create_nice_cx_from_server(server='public.ndexbio.org', uuid='c060aff9-86d4-11e7-a10d-0ac135e8bacf')\n",
    "nice_cx_network = ndex2.create_nice_cx_from_server(server='public.ndexbio.org', uuid='f1dd6cc3-0007-11e6-b550-06603eb7f303')\n",
    "# nice_cx_network =  ndex2.create_nice_cx_from_server(server='public.ndexbio.org', uuid='ff8e7def-6e09-11e9-848d-0ac135e8bacf')\n",
    "nice_cx_network =  ndex2.create_nice_cx_from_server(server='public.ndexbio.org', uuid='38a9cebf-23dc-11e8-b939-0ac135e8bacf')"
   ]
  },
  {
   "cell_type": "code",
   "execution_count": 77,
   "metadata": {},
   "outputs": [
    {
     "name": "stdout",
     "output_type": "stream",
     "text": [
      "Name: BioGRID: Protein-Protein Interactions (HIV-1)\n",
      "Nodes: 1127\n",
      "Edges: 1771\n",
      "Node Attributes: 3297\n",
      "Edge Attributes: 12397\n",
      "\n"
     ]
    }
   ],
   "source": [
    "nice_cx_network.print_summary()"
   ]
  },
  {
   "cell_type": "code",
   "execution_count": 78,
   "metadata": {},
   "outputs": [],
   "source": [
    "nice_cx_from_server_df=nice_cx_network.to_pandas_dataframe()"
   ]
  },
  {
   "cell_type": "code",
   "execution_count": 79,
   "metadata": {},
   "outputs": [
    {
     "data": {
      "text/html": [
       "<div>\n",
       "<style scoped>\n",
       "    .dataframe tbody tr th:only-of-type {\n",
       "        vertical-align: middle;\n",
       "    }\n",
       "\n",
       "    .dataframe tbody tr th {\n",
       "        vertical-align: top;\n",
       "    }\n",
       "\n",
       "    .dataframe thead th {\n",
       "        text-align: right;\n",
       "    }\n",
       "</style>\n",
       "<table border=\"1\" class=\"dataframe\">\n",
       "  <thead>\n",
       "    <tr style=\"text-align: right;\">\n",
       "      <th></th>\n",
       "      <th>source</th>\n",
       "      <th>interaction</th>\n",
       "      <th>target</th>\n",
       "    </tr>\n",
       "  </thead>\n",
       "  <tbody>\n",
       "    <tr>\n",
       "      <th>0</th>\n",
       "      <td>vpr</td>\n",
       "      <td>interacts-with</td>\n",
       "      <td>SF3B2</td>\n",
       "    </tr>\n",
       "    <tr>\n",
       "      <th>1</th>\n",
       "      <td>vpr</td>\n",
       "      <td>interacts-with</td>\n",
       "      <td>SF3B2</td>\n",
       "    </tr>\n",
       "    <tr>\n",
       "      <th>2</th>\n",
       "      <td>vpr</td>\n",
       "      <td>interacts-with</td>\n",
       "      <td>SF3B2</td>\n",
       "    </tr>\n",
       "    <tr>\n",
       "      <th>3</th>\n",
       "      <td>SF3B2</td>\n",
       "      <td>interacts-with</td>\n",
       "      <td>vpr</td>\n",
       "    </tr>\n",
       "    <tr>\n",
       "      <th>4</th>\n",
       "      <td>tat</td>\n",
       "      <td>interacts-with</td>\n",
       "      <td>CCNT1</td>\n",
       "    </tr>\n",
       "  </tbody>\n",
       "</table>\n",
       "</div>"
      ],
      "text/plain": [
       "  source     interaction target\n",
       "0    vpr  interacts-with  SF3B2\n",
       "1    vpr  interacts-with  SF3B2\n",
       "2    vpr  interacts-with  SF3B2\n",
       "3  SF3B2  interacts-with    vpr\n",
       "4    tat  interacts-with  CCNT1"
      ]
     },
     "execution_count": 79,
     "metadata": {},
     "output_type": "execute_result"
    }
   ],
   "source": [
    "nice_cx_from_server_df.head()"
   ]
  },
  {
   "cell_type": "markdown",
   "metadata": {},
   "source": [
    "Convert it to simple edge list"
   ]
  },
  {
   "cell_type": "code",
   "execution_count": 80,
   "metadata": {},
   "outputs": [],
   "source": [
    "edgelist=nice_cx_from_server_df.iloc[:,[0,2]]"
   ]
  },
  {
   "cell_type": "markdown",
   "metadata": {},
   "source": [
    "Convert DF to undirected igraph object\n",
    "This is a PPI network, so import as undirected."
   ]
  },
  {
   "cell_type": "code",
   "execution_count": 81,
   "metadata": {},
   "outputs": [],
   "source": [
    "tuples=[tuple(x) for x in edgelist.values]\n",
    "g_original = igraph.Graph.TupleList(tuples,directed=False)"
   ]
  },
  {
   "cell_type": "markdown",
   "metadata": {},
   "source": [
    "Extract componentes (individual connected subgraphs)"
   ]
  },
  {
   "cell_type": "code",
   "execution_count": 82,
   "metadata": {},
   "outputs": [],
   "source": [
    "subgraphs=g_original.decompose()"
   ]
  },
  {
   "cell_type": "markdown",
   "metadata": {},
   "source": [
    "Pick largest subgraph"
   ]
  },
  {
   "cell_type": "code",
   "execution_count": 83,
   "metadata": {},
   "outputs": [],
   "source": [
    "tmp=[i.vcount() for i in subgraphs]\n",
    "largeset_subgraph = subgraphs[tmp.index(max(tmp))]"
   ]
  },
  {
   "cell_type": "markdown",
   "metadata": {},
   "source": [
    "Remove duplicate edges"
   ]
  },
  {
   "cell_type": "code",
   "execution_count": 84,
   "metadata": {},
   "outputs": [],
   "source": [
    "g = largeset_subgraph.simplify(multiple=True, loops=True)\n",
    "g.name = \"Yeast network\""
   ]
  },
  {
   "cell_type": "markdown",
   "metadata": {},
   "source": [
    "# Step 2: Basic statistical analysis"
   ]
  },
  {
   "cell_type": "markdown",
   "metadata": {},
   "source": [
    "Global Network Statics"
   ]
  },
  {
   "cell_type": "code",
   "execution_count": 85,
   "metadata": {},
   "outputs": [
    {
     "name": "stdout",
     "output_type": "stream",
     "text": [
      "Density: 0.0020614624720843625\n",
      "Transitivity: 0.0010073794542561781\n"
     ]
    }
   ],
   "source": [
    "print(\"Density:\",g.density())\n",
    "print(\"Transitivity:\",g.transitivity_undirected())"
   ]
  },
  {
   "cell_type": "markdown",
   "metadata": {},
   "source": [
    "Node statistics"
   ]
  },
  {
   "cell_type": "code",
   "execution_count": 86,
   "metadata": {},
   "outputs": [],
   "source": [
    "g_closeness = g.vs.closeness() # Closeness Centrarity\n",
    "g_degree = g.vs.degree() # Degree\n",
    "g_pagerank = g.vs.pagerank(directed = False) # PageRank\n",
    "g_vs_betweenness = g.vs.betweenness() # Betweenness Centrarity"
   ]
  },
  {
   "cell_type": "markdown",
   "metadata": {},
   "source": [
    "Edge statics"
   ]
  },
  {
   "cell_type": "code",
   "execution_count": 87,
   "metadata": {},
   "outputs": [],
   "source": [
    "g_es_betweenness = g.es.edge_betweenness() # Edge Betweenness"
   ]
  },
  {
   "cell_type": "markdown",
   "metadata": {},
   "source": [
    "# Step 3: Community Detection: Try multiple algorithms"
   ]
  },
  {
   "cell_type": "markdown",
   "metadata": {},
   "source": [
    "Clustering"
   ]
  },
  {
   "cell_type": "code",
   "execution_count": 88,
   "metadata": {},
   "outputs": [],
   "source": [
    "communities_greedy = g.community_fastgreedy().as_clustering()\n",
    "communities_leading = g.community_leading_eigenvector()\n",
    "communities_label_propagation = g.community_label_propagation()"
   ]
  },
  {
   "cell_type": "code",
   "execution_count": 89,
   "metadata": {},
   "outputs": [],
   "source": [
    "v_community_greedy = communities_greedy.membership\n",
    "v_community_leading = communities_leading.membership\n",
    "v_community_label_propagation = communities_label_propagation.membership"
   ]
  },
  {
   "cell_type": "code",
   "execution_count": 90,
   "metadata": {},
   "outputs": [],
   "source": [
    "def getCommunityEdge(g, community):\n",
    "    num_edges = g.ecount()\n",
    "    edge_community = [-1]*num_edges\n",
    "    comms = community\n",
    "    sources=[i for i, _ in g.get_edgelist()]\n",
    "    targets=[j for _, j in g.get_edgelist()]\n",
    "    for i in range(num_edges):\n",
    "        sidx = sources[i]\n",
    "        tidx = targets[i]\n",
    "        source = comms[sidx]\n",
    "        target = comms[tidx]\n",
    "        \n",
    "        if source == target:\n",
    "            edge_community[i] = source\n",
    "    return edge_community\n",
    "    "
   ]
  },
  {
   "cell_type": "code",
   "execution_count": 91,
   "metadata": {},
   "outputs": [],
   "source": [
    "e_commnity_greedy = getCommunityEdge(g, v_community_greedy)\n",
    "e_commnity_leading = getCommunityEdge(g, v_community_leading)\n",
    "e_community_label_propagation = getCommunityEdge(g, v_community_label_propagation)"
   ]
  },
  {
   "cell_type": "markdown",
   "metadata": {},
   "source": [
    "## Community to Colors"
   ]
  },
  {
   "cell_type": "code",
   "execution_count": 92,
   "metadata": {},
   "outputs": [],
   "source": [
    "import seaborn as sns"
   ]
  },
  {
   "cell_type": "code",
   "execution_count": 93,
   "metadata": {},
   "outputs": [],
   "source": [
    "def communityToColors(members):\n",
    "    basecolor='#AAAAAA'\n",
    "    num_members=len(members)\n",
    "    num_communities=max(members)+1\n",
    "    colors = [basecolor]*num_members\n",
    "    \n",
    "    colorp = sns.color_palette(\"hls\", num_communities)\n",
    "    \n",
    "#     sns.palplot(colorp)\n",
    "    \n",
    "    #print(num_communities,num_members)\n",
    "    colorpalette=[rgb2hex(int(a[0]*255),int(a[1]*255),int(a[2]*255)) for a in colorp]\n",
    "    \n",
    "    for i in range(num_members):\n",
    "        newcolor = colorpalette[members[i]]\n",
    "        if( members[i] == -1 ):\n",
    "            newcolor = basecolor\n",
    "        colors[i] = newcolor\n",
    "    return colors\n",
    "\n",
    "def rgb2hex(r,g,b): #RGB配列からHTMLなどに使われる16進数表現へ\n",
    "    # r , g , b = 0 〜 255 # int型\n",
    "    color = (r, g , b)\n",
    "    html_color = '#%02X%02X%02X' % (color[0],color[1],color[2])\n",
    "    return html_color\n"
   ]
  },
  {
   "cell_type": "code",
   "execution_count": 94,
   "metadata": {},
   "outputs": [],
   "source": [
    "g.vs['color'] = communityToColors(communities_greedy.membership)\n",
    "g.es['color'] = communityToColors(e_commnity_greedy)"
   ]
  },
  {
   "cell_type": "markdown",
   "metadata": {},
   "source": [
    "## Convert igraph to networkx"
   ]
  },
  {
   "cell_type": "code",
   "execution_count": 95,
   "metadata": {},
   "outputs": [],
   "source": [
    "def search_interaction(df,src,tgt):\n",
    "    if len(df[(df['source']==src) & (df['target']==tgt)]):\n",
    "        return df[(df['source']==src) & (df['target']==tgt)]['interaction'].values[0]\n",
    "    else:\n",
    "        return df[(df['source']==tgt) & (df['target']==src)]['interaction'].values[0]"
   ]
  },
  {
   "cell_type": "code",
   "execution_count": 96,
   "metadata": {},
   "outputs": [],
   "source": [
    "G_nx=nx.Graph()\n",
    "for i in range(g.vcount()):\n",
    "    G_nx.add_node(g.vs['name'][i])\n",
    "for i,j in g.get_edgelist():\n",
    "    G_nx.add_edge(g.vs['name'][i],g.vs['name'][j])"
   ]
  },
  {
   "cell_type": "markdown",
   "metadata": {},
   "source": [
    "# py2cytoscape basic setup\n",
    "## Setting up py2cytoscape client\n",
    "\n",
    "Many of the Legacy APIs are deprecated.  Check this document as the reference:\n",
    "\n",
    "https://py2cytoscape.readthedocs.io/en/latest/\n",
    "\n",
    "### For native version users (running from host)\n",
    "You don't have to specify IP since you are running both Jupyter and Cytoscape form the same host\n",
    "\n",
    "### For Docker users\n",
    "You shoulod check the IP address of your host system (i.e., workstation's IP) and pass it to the client."
   ]
  },
  {
   "cell_type": "code",
   "execution_count": 97,
   "metadata": {},
   "outputs": [
    {
     "name": "stdout",
     "output_type": "stream",
     "text": [
      "apiVersion v1\n",
      "cytoscapeVersion 3.7.1\n",
      "CyREST online!\n"
     ]
    }
   ],
   "source": [
    "from py2cytoscape import cyrest\n",
    "\n",
    "# This should be changed to your host IP\n",
    "host_ip = '192.168.1.47'\n",
    "cytoscape=cyrest.cyclient(host=host_ip)\n",
    "cytoscape.version()\n",
    "cytoscape.status()"
   ]
  },
  {
   "cell_type": "code",
   "execution_count": 98,
   "metadata": {},
   "outputs": [],
   "source": [
    "# Delete current session and start a new one\n",
    "cytoscape.session.new()"
   ]
  },
  {
   "cell_type": "markdown",
   "metadata": {},
   "source": [
    "## Layout using by ForceAtlas2"
   ]
  },
  {
   "cell_type": "code",
   "execution_count": 99,
   "metadata": {},
   "outputs": [
    {
     "name": "stderr",
     "output_type": "stream",
     "text": [
      "100%|██████████| 2000/2000 [00:26<00:00, 75.41it/s]"
     ]
    },
    {
     "name": "stdout",
     "output_type": "stream",
     "text": [
      "BarnesHut Approximation  took  10.42  seconds\n",
      "Repulsion forces  took  12.87  seconds\n",
      "Gravitational forces  took  0.26  seconds\n",
      "Attraction forces  took  0.07  seconds\n",
      "AdjustSpeedAndApplyForces step  took  1.44  seconds\n"
     ]
    },
    {
     "name": "stderr",
     "output_type": "stream",
     "text": [
      "\n"
     ]
    }
   ],
   "source": [
    "import networkx as nx\n",
    "from fa2 import ForceAtlas2\n",
    "import matplotlib.pyplot as plt\n",
    "\n",
    "# G = nx.random_geometric_graph(400, 0.2)\n",
    "\n",
    "forceatlas2 = ForceAtlas2(\n",
    "                        # Behavior alternatives\n",
    "                        outboundAttractionDistribution=True,  # Dissuade hubs\n",
    "                        linLogMode=False,  # NOT IMPLEMENTED\n",
    "                        adjustSizes=False,  # Prevent overlap (NOT IMPLEMENTED)\n",
    "                        edgeWeightInfluence=1.0,\n",
    "\n",
    "                        # Performance\n",
    "                        jitterTolerance=1.0,  # Tolerance\n",
    "                        barnesHutOptimize=True,\n",
    "                        barnesHutTheta=1.2,\n",
    "                        multiThreaded=False,  # NOT IMPLEMENTED\n",
    "\n",
    "                        # Tuning\n",
    "                        scalingRatio=20,\n",
    "                        strongGravityMode=False,\n",
    "                        gravity=10,\n",
    "\n",
    "                        # Log\n",
    "                        verbose=True)\n",
    "\n",
    "\n",
    "g.es['weights']=[ 0 if i==-1 else 10 for i in e_commnity_greedy]\n",
    "positions = forceatlas2.forceatlas2_igraph_layout(g, pos=None, iterations=2000,weight_attr='weights')\n",
    "#positions_x = forceatlas2.forceatlas2_networkx_layout(G_nx, pos=None, iterations=2000)\n",
    "\n",
    "#nx.draw_networkx_nodes(G_nx, positions_x, node_size=20, with_labels=False, node_color=\"blue\", alpha=0.4)\n",
    "#nx.draw_networkx_edges(G_nx, positions_x, edge_color=\"green\", alpha=0.05)\n",
    "#plt.axis('off')\n",
    "#plt.show()\n"
   ]
  },
  {
   "cell_type": "code",
   "execution_count": null,
   "metadata": {},
   "outputs": [],
   "source": []
  },
  {
   "cell_type": "markdown",
   "metadata": {},
   "source": [
    "### Convert \"positions\" to \"certesian\""
   ]
  },
  {
   "cell_type": "code",
   "execution_count": 100,
   "metadata": {},
   "outputs": [],
   "source": [
    "\n",
    "\n",
    "# positions = list(positions)\n",
    "\n",
    "# certesian = [{'node':i,'x': float(positions[n][0]),'y': float(positions[n][1])}for i, n in enumerate(positions)]\n",
    "certesian = [{'node':i,'x': list(positions)[i][0],'y': list(positions)[i][1]}for i in range(len(positions))]"
   ]
  },
  {
   "cell_type": "code",
   "execution_count": 101,
   "metadata": {},
   "outputs": [],
   "source": [
    "ncx_from_x=ndex2.create_nice_cx_from_networkx(G_nx)\n",
    "\n",
    "for i in range(g.vcount()):\n",
    "    ncx_from_x.set_node_attribute(i, \"closeness\", g_closeness[i])\n",
    "    ncx_from_x.set_node_attribute(i, \"degree\", g_degree[i])\n",
    "    ncx_from_x.set_node_attribute(i, \"pagerank\", g_pagerank[i])\n",
    "    ncx_from_x.set_node_attribute(i, \"betweenness\", g_vs_betweenness[i])\n",
    "    ncx_from_x.set_node_attribute(i, \"community.greedy\", v_community_greedy[i])\n",
    "    ncx_from_x.set_node_attribute(i, \"community.leading\", v_community_leading[i])\n",
    "    ncx_from_x.set_node_attribute(i, \"community.label.propagation\", v_community_label_propagation[i])\n",
    "    ncx_from_x.set_node_attribute(i, \"colors.community.greedy\", communityToColors(v_community_greedy)[i])\n",
    "    ncx_from_x.set_node_attribute(i, \"colors.community.leading\", communityToColors(v_community_leading)[i])\n",
    "    ncx_from_x.set_node_attribute(i, \"colors.community.label.propagation\", communityToColors(v_community_label_propagation)[i])\n",
    " \n",
    "\n",
    "\n",
    "for i in range(g.ecount()):\n",
    "    ncx_from_x.set_edge_attribute(i, \"betweenness.edge\", g_es_betweenness[i])\n",
    "    ncx_from_x.set_edge_attribute(i, \"community.greedy\", e_commnity_greedy[i])\n",
    "    ncx_from_x.set_edge_attribute(i, \"community.leading\", e_commnity_leading[i])\n",
    "    ncx_from_x.set_edge_attribute(i, \"community.label.propagation\", e_community_label_propagation[i])\n",
    "    ncx_from_x.set_edge_attribute(i, \"colors.community.greedy\", communityToColors(e_commnity_greedy)[i])\n",
    "    ncx_from_x.set_edge_attribute(i, \"colors.community.leading\", communityToColors(e_commnity_leading)[i])\n",
    "    ncx_from_x.set_edge_attribute(i, \"colors.community.label.propagation\", communityToColors(e_community_label_propagation)[i])\n",
    "    \n"
   ]
  },
  {
   "cell_type": "code",
   "execution_count": 102,
   "metadata": {
    "scrolled": true
   },
   "outputs": [],
   "source": [
    "import json\n",
    "\n",
    "with open('tmp.json') as f:\n",
    "    tmp = json.load(f)"
   ]
  },
  {
   "cell_type": "markdown",
   "metadata": {},
   "source": [
    "\n",
    "\n",
    "\n",
    "### Apply \"certesian\" to NiceCX"
   ]
  },
  {
   "cell_type": "code",
   "execution_count": 103,
   "metadata": {},
   "outputs": [
    {
     "name": "stdout",
     "output_type": "stream",
     "text": [
      "<class 'str'>\n"
     ]
    }
   ],
   "source": [
    "print(type(ncx_from_x.VISUAL_PROPERTIES))\n",
    "# ncx_from_x.set_opaque_aspect(\"VISUAL_PROPERTIES\",colors)\n",
    "\n",
    "# ncx_from_x.apply_template('public.ndexbio.org','92084251-c859-11e9-aa81-0ac135e8bacf')\n",
    "\n",
    "ncx_from_x.set_opaque_aspect(\"cartesianLayout\", certesian)\n",
    "ncx_from_x.set_opaque_aspect(\"cyVisualProperties\",tmp['cyVisualProperties'])"
   ]
  },
  {
   "cell_type": "markdown",
   "metadata": {},
   "source": [
    "## Send to Cytoscape"
   ]
  },
  {
   "cell_type": "code",
   "execution_count": 104,
   "metadata": {},
   "outputs": [
    {
     "name": "stdout",
     "output_type": "stream",
     "text": [
      "Generating CX\n",
      "http://192.168.1.47:1234/cyndex2/v1/networks/cx\n",
      "{'data': {'suid': 21152, 'uuid': ''}, 'errors': []}\n"
     ]
    }
   ],
   "source": [
    "import requests\n",
    "\n",
    "cxobj = ncx_from_x.to_cx()\n",
    "cyrest_url = 'http://' + host_ip + ':1234/cyndex2/v1/networks/cx'\n",
    "print(cyrest_url)\n",
    "response = requests.post(cyrest_url, data=json.dumps(cxobj))\n",
    "print(response.json())"
   ]
  },
  {
   "cell_type": "markdown",
   "metadata": {},
   "source": [
    "##  upload the network"
   ]
  },
  {
   "cell_type": "code",
   "execution_count": 105,
   "metadata": {},
   "outputs": [
    {
     "name": "stdout",
     "output_type": "stream",
     "text": [
      "Success.  Please continue.\n"
     ]
    }
   ],
   "source": [
    "my_account=\"am\"\n",
    "my_password=\"ndexpassword\"\n",
    "my_server=\"http://public.ndexbio.org\"\n",
    "\n",
    "if my_account == 'enter your username here':\n",
    "    print('*******WARNING!!!!*******')\n",
    "    print('Please change the username and password before proceeding')\n",
    "else:\n",
    "    try:\n",
    "        my_ndex=nc.Ndex2(my_server, my_account, my_password)\n",
    "        my_ndex.update_status()\n",
    "        print(\"Success.  Please continue.\")\n",
    "    except Exception as inst:\n",
    "        print(\"Could not access account %s with password %s\" % (my_account, my_password))\n",
    "        print(inst.args)"
   ]
  },
  {
   "cell_type": "code",
   "execution_count": 106,
   "metadata": {},
   "outputs": [
    {
     "name": "stdout",
     "output_type": "stream",
     "text": [
      "Generating CX\n",
      "http://public.ndexbio.org/v2/network/cb6d5b85-c957-11e9-aa81-0ac135e8bacf\n"
     ]
    }
   ],
   "source": [
    "upload_message=ncx_from_x.upload_to(my_server, my_account, my_password)\n",
    "print(upload_message)"
   ]
  },
  {
   "cell_type": "code",
   "execution_count": null,
   "metadata": {},
   "outputs": [],
   "source": []
  },
  {
   "cell_type": "code",
   "execution_count": null,
   "metadata": {},
   "outputs": [],
   "source": []
  }
 ],
 "metadata": {
  "kernelspec": {
   "display_name": "Python 3",
   "language": "python",
   "name": "python3"
  },
  "language_info": {
   "codemirror_mode": {
    "name": "ipython",
    "version": 3
   },
   "file_extension": ".py",
   "mimetype": "text/x-python",
   "name": "python",
   "nbconvert_exporter": "python",
   "pygments_lexer": "ipython3",
   "version": "3.6.8"
  }
 },
 "nbformat": 4,
 "nbformat_minor": 4
}
