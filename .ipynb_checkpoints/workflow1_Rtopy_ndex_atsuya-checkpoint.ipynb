{
 "cells": [
  {
   "cell_type": "code",
   "execution_count": 4,
   "metadata": {},
   "outputs": [],
   "source": [
    "import pandas as pd\n",
    "import igraph\n",
    "import numpy as np\n",
    "import pdb\n",
    "from ndex2.nice_cx_network import NiceCXNetwork\n",
    "import ndex2.client as nc\n",
    "import ndex2\n",
    "import networkx as nx\n",
    "from fa2 import ForceAtlas2\n",
    "import networkx as nx"
   ]
  },
  {
   "cell_type": "markdown",
   "metadata": {},
   "source": [
    "#from https://github.com/idekerlab/cy-rest-R/blob/develop/workflow1_structure_based_visualization.R"
   ]
  },
  {
   "cell_type": "markdown",
   "metadata": {},
   "source": [
    "# Step 1: Network Data Preparation"
   ]
  },
  {
   "cell_type": "markdown",
   "metadata": {},
   "source": [
    "Load network from NDEx"
   ]
  },
  {
   "cell_type": "code",
   "execution_count": 5,
   "metadata": {},
   "outputs": [],
   "source": [
    "nice_cx_network = ndex2.create_nice_cx_from_server(server='public.ndexbio.org', uuid='f1dd6cc3-0007-11e6-b550-06603eb7f303')"
   ]
  },
  {
   "cell_type": "code",
   "execution_count": 6,
   "metadata": {},
   "outputs": [
    {
     "name": "stdout",
     "output_type": "stream",
     "text": [
      "Name: CoCaNet2\n",
      "Nodes: 36\n",
      "Edges: 37\n",
      "Node Attributes: 706\n",
      "Edge Attributes: 517\n",
      "\n"
     ]
    }
   ],
   "source": [
    "nice_cx_network.print_summary()"
   ]
  },
  {
   "cell_type": "code",
   "execution_count": null,
   "metadata": {},
   "outputs": [],
   "source": []
  },
  {
   "cell_type": "code",
   "execution_count": 7,
   "metadata": {},
   "outputs": [],
   "source": [
    "nice_cx_from_server_df=nice_cx_network.to_pandas_dataframe()"
   ]
  },
  {
   "cell_type": "code",
   "execution_count": 8,
   "metadata": {},
   "outputs": [
    {
     "data": {
      "text/html": [
       "<div>\n",
       "<style scoped>\n",
       "    .dataframe tbody tr th:only-of-type {\n",
       "        vertical-align: middle;\n",
       "    }\n",
       "\n",
       "    .dataframe tbody tr th {\n",
       "        vertical-align: top;\n",
       "    }\n",
       "\n",
       "    .dataframe thead th {\n",
       "        text-align: right;\n",
       "    }\n",
       "</style>\n",
       "<table border=\"1\" class=\"dataframe\">\n",
       "  <thead>\n",
       "    <tr style=\"text-align: right;\">\n",
       "      <th></th>\n",
       "      <th>source</th>\n",
       "      <th>interaction</th>\n",
       "      <th>target</th>\n",
       "    </tr>\n",
       "  </thead>\n",
       "  <tbody>\n",
       "    <tr>\n",
       "      <th>0</th>\n",
       "      <td>druggable</td>\n",
       "      <td>pp</td>\n",
       "      <td>TS</td>\n",
       "    </tr>\n",
       "    <tr>\n",
       "      <th>1</th>\n",
       "      <td>DHFR</td>\n",
       "      <td>pp</td>\n",
       "      <td>MAPK1</td>\n",
       "    </tr>\n",
       "    <tr>\n",
       "      <th>2</th>\n",
       "      <td>CHEK1</td>\n",
       "      <td>pp</td>\n",
       "      <td>BLM</td>\n",
       "    </tr>\n",
       "    <tr>\n",
       "      <th>3</th>\n",
       "      <td>IMPDH1</td>\n",
       "      <td>pp</td>\n",
       "      <td>MTIF2</td>\n",
       "    </tr>\n",
       "    <tr>\n",
       "      <th>4</th>\n",
       "      <td>IMPDH1</td>\n",
       "      <td>pp</td>\n",
       "      <td>ING5</td>\n",
       "    </tr>\n",
       "  </tbody>\n",
       "</table>\n",
       "</div>"
      ],
      "text/plain": [
       "      source interaction target\n",
       "0  druggable          pp     TS\n",
       "1       DHFR          pp  MAPK1\n",
       "2      CHEK1          pp    BLM\n",
       "3     IMPDH1          pp  MTIF2\n",
       "4     IMPDH1          pp   ING5"
      ]
     },
     "execution_count": 8,
     "metadata": {},
     "output_type": "execute_result"
    }
   ],
   "source": [
    "nice_cx_from_server_df.head()"
   ]
  },
  {
   "cell_type": "markdown",
   "metadata": {},
   "source": [
    "Convert it to simple edge list"
   ]
  },
  {
   "cell_type": "code",
   "execution_count": 9,
   "metadata": {},
   "outputs": [],
   "source": [
    "edgelist=nice_cx_from_server_df.iloc[:,[0,2]]"
   ]
  },
  {
   "cell_type": "markdown",
   "metadata": {},
   "source": [
    "Convert DF to undirected igraph object\n",
    "This is a PPI network, so import as undirected."
   ]
  },
  {
   "cell_type": "code",
   "execution_count": 10,
   "metadata": {},
   "outputs": [],
   "source": [
    "tuples=[tuple(x) for x in edgelist.values]\n",
    "g_original = igraph.Graph.TupleList(tuples,directed=False)"
   ]
  },
  {
   "cell_type": "markdown",
   "metadata": {},
   "source": [
    "Extract componentes (individual connected subgraphs)"
   ]
  },
  {
   "cell_type": "code",
   "execution_count": 11,
   "metadata": {},
   "outputs": [],
   "source": [
    "subgraphs=g_original.decompose()"
   ]
  },
  {
   "cell_type": "markdown",
   "metadata": {},
   "source": [
    "Pick largest subgraph"
   ]
  },
  {
   "cell_type": "code",
   "execution_count": 12,
   "metadata": {},
   "outputs": [],
   "source": [
    "tmp=[i.vcount() for i in subgraphs]\n",
    "largeset_subgraph = subgraphs[tmp.index(max(tmp))]"
   ]
  },
  {
   "cell_type": "markdown",
   "metadata": {},
   "source": [
    "Remove duplicate edges"
   ]
  },
  {
   "cell_type": "code",
   "execution_count": 13,
   "metadata": {},
   "outputs": [],
   "source": [
    "g = largeset_subgraph.simplify(multiple=True, loops=True)\n",
    "g.name = \"Yeast network\""
   ]
  },
  {
   "cell_type": "markdown",
   "metadata": {},
   "source": [
    "# Step 2: Basic statistical analysis"
   ]
  },
  {
   "cell_type": "markdown",
   "metadata": {},
   "source": [
    "Global Network Statics"
   ]
  },
  {
   "cell_type": "code",
   "execution_count": 14,
   "metadata": {},
   "outputs": [
    {
     "name": "stdout",
     "output_type": "stream",
     "text": [
      "Density: 0.07881773399014778\n",
      "Transitivity: 0.045454545454545456\n"
     ]
    }
   ],
   "source": [
    "print(\"Density:\",g.density())\n",
    "print(\"Transitivity:\",g.transitivity_undirected())"
   ]
  },
  {
   "cell_type": "markdown",
   "metadata": {},
   "source": [
    "Node statistics"
   ]
  },
  {
   "cell_type": "code",
   "execution_count": 15,
   "metadata": {},
   "outputs": [],
   "source": [
    "g_closeness = g.vs.closeness() # Closeness Centrarity\n",
    "g_degree = g.vs.degree() # Degree\n",
    "g_pagerank = g.vs.pagerank(directed = False) # PageRank\n",
    "g_vs_betweenness = g.vs.betweenness() # Betweenness Centrarity"
   ]
  },
  {
   "cell_type": "markdown",
   "metadata": {},
   "source": [
    "Edge statics"
   ]
  },
  {
   "cell_type": "code",
   "execution_count": 16,
   "metadata": {},
   "outputs": [],
   "source": [
    "g_es_betweenness = g.es.edge_betweenness() # Edge Betweenness"
   ]
  },
  {
   "cell_type": "markdown",
   "metadata": {},
   "source": [
    "# Step 3: Community Detection: Try multiple algorithms"
   ]
  },
  {
   "cell_type": "markdown",
   "metadata": {},
   "source": [
    "Clustering"
   ]
  },
  {
   "cell_type": "code",
   "execution_count": 17,
   "metadata": {},
   "outputs": [],
   "source": [
    "communities_greedy = g.community_fastgreedy().as_clustering()\n",
    "communities_leading = g.community_leading_eigenvector()\n",
    "communities_label_propagation = g.community_label_propagation()"
   ]
  },
  {
   "cell_type": "code",
   "execution_count": 18,
   "metadata": {},
   "outputs": [],
   "source": [
    "v_community_greedy = communities_greedy.membership\n",
    "v_community_leading = communities_leading.membership\n",
    "v_community_label_propagation = communities_label_propagation.membership"
   ]
  },
  {
   "cell_type": "code",
   "execution_count": 19,
   "metadata": {},
   "outputs": [],
   "source": [
    "def getCommunityEdge(g, community):\n",
    "    num_edges = g.ecount()\n",
    "    edge_community = [0]*num_edges\n",
    "    comms = community\n",
    "    sources=[i for i, _ in g.get_edgelist()]\n",
    "    targets=[j for _, j in g.get_edgelist()]\n",
    "    for i in range(num_edges):\n",
    "        sidx = sources[i]\n",
    "        tidx = targets[i]\n",
    "        source = comms[sidx]\n",
    "        target = comms[tidx]\n",
    "        \n",
    "        if source == target:\n",
    "            edge_community[i] = source+1\n",
    "    return edge_community\n",
    "    "
   ]
  },
  {
   "cell_type": "code",
   "execution_count": 20,
   "metadata": {},
   "outputs": [],
   "source": [
    "e_commnity_greedy = getCommunityEdge(g, v_community_greedy)\n",
    "e_commnity_leading = getCommunityEdge(g, v_community_leading)\n",
    "e_community_label_propagation = getCommunityEdge(g, v_community_label_propagation)"
   ]
  },
  {
   "cell_type": "markdown",
   "metadata": {},
   "source": [
    "## Convert igraph to networkx"
   ]
  },
  {
   "cell_type": "code",
   "execution_count": 21,
   "metadata": {},
   "outputs": [],
   "source": [
    "def search_interaction(df,src,tgt):\n",
    "    if len(df[(df['source']==src) & (df['target']==tgt)]):\n",
    "        return df[(df['source']==src) & (df['target']==tgt)]['interaction'].values[0]\n",
    "    else:\n",
    "        return df[(df['source']==tgt) & (df['target']==src)]['interaction'].values[0]"
   ]
  },
  {
   "cell_type": "code",
   "execution_count": 22,
   "metadata": {},
   "outputs": [],
   "source": [
    "sources=[g.vs['name'][i] for i, _ in g.get_edgelist()]\n",
    "targets=[g.vs['name'][j] for _, j in g.get_edgelist()]\n",
    "interaction=[search_interaction(nice_cx_from_server_df,i ,j) for i,j in zip(sources,targets)]\n",
    "edgeprop=e_commnity_greedy"
   ]
  },
  {
   "cell_type": "code",
   "execution_count": 106,
   "metadata": {},
   "outputs": [],
   "source": [
    "G_nx=nx.Graph()\n",
    "for(i,j),k in zip(g.get_edgelist(),e_commnity_greedy):\n",
    "    G_nx.add_edge(g.vs['name'][i],g.vs['name'][j],communities=k)"
   ]
  },
  {
   "cell_type": "markdown",
   "metadata": {},
   "source": [
    "## LAYOUT"
   ]
  },
  {
   "cell_type": "code",
   "execution_count": 115,
   "metadata": {},
   "outputs": [
    {
     "name": "stderr",
     "output_type": "stream",
     "text": [
      "100%|██████████| 2000/2000 [00:00<00:00, 19331.75it/s]\n"
     ]
    },
    {
     "name": "stdout",
     "output_type": "stream",
     "text": [
      "BarnesHut Approximation  took  0.03  seconds\n",
      "Repulsion forces  took  0.03  seconds\n",
      "Gravitational forces  took  0.00  seconds\n",
      "Attraction forces  took  0.00  seconds\n",
      "AdjustSpeedAndApplyForces step  took  0.01  seconds\n",
      "{'CHEK1': (23.340858631081073, -14.346252642840405), 'BLM': (20.215809777106646, -10.387727005200773), 'RABGGTB': (36.81940541068138, 4.28716985744934), 'CHEK2': (-0.3947948342170057, -20.579882895042036), 'IMPDH1': (-12.360989697230508, 34.81598836200835), 'MTIF2': (-17.56934469211356, 42.82846152934815), 'ING5': (-3.523349396266497, 34.304127372167535), 'ING4': (-9.579607884825524, 20.06612409947035), 'TUBA1A': (2.852020162131269, 26.724968912359667), 'WEE1': (-13.93117600102332, 0.5746983223219853), 'HDAC2': (-20.29999747799884, 9.735241490355584), 'HDAC1': (-26.123603459062043, 1.9877307472388568), 'FZR1': (-22.659458064733755, -19.95240192122285), 'CSNK1G1': (-27.10866501359748, -38.39669988529642), 'SH3GL1': (-25.141027390446926, -50.06377431419301), 'TOP1': (-18.203679227622708, -58.3905353973796), 'TOP3A': (-39.008385246009354, -19.775811745796535), 'HDAC6': (67.45155518194369, 14.836053859164537), 'XRCC3': (59.21178733037527, 11.657547273978048), 'TCEA1': (73.26619828616067, 17.442555207734372), 'BRD4': (19.37485332527133, 21.9944468388959), 'ADA': (23.44226720917995, 29.087239801250934), 'MAP3K4': (-45.91883476181668, -19.847245712311928), 'PPP2CB': (44.23980469810671, -5.1454326394511005), 'RAD23B': (43.62242240260533, 12.584679744050053), 'LLGL1': (-19.93040871284519, -67.57461792452747), 'RAD17': (-7.5782042286081746, -48.04620104015851), 'RPS10': (7.09725370529611, -34.01426062841271), 'WRN': (-3.456269236861691, -31.441094781339427)}\n"
     ]
    },
    {
     "data": {
      "image/png": "[encoded data removed]",
      "text/plain": [
       "<Figure size 432x288 with 1 Axes>"
      ]
     },
     "metadata": {},
     "output_type": "display_data"
    }
   ],
   "source": [
    "import networkx as nx\n",
    "from fa2 import ForceAtlas2\n",
    "import matplotlib.pyplot as plt\n",
    "\n",
    "# G = nx.random_geometric_graph(400, 0.2)\n",
    "\n",
    "forceatlas2 = ForceAtlas2(\n",
    "                        # Behavior alternatives\n",
    "                        outboundAttractionDistribution=True,  # Dissuade hubs\n",
    "                        linLogMode=False,  # NOT IMPLEMENTED\n",
    "                        adjustSizes=False,  # Prevent overlap (NOT IMPLEMENTED)\n",
    "                        edgeWeightInfluence=1.0,\n",
    "\n",
    "                        # Performance\n",
    "                        jitterTolerance=1.0,  # Tolerance\n",
    "                        barnesHutOptimize=True,\n",
    "                        barnesHutTheta=1.2,\n",
    "                        multiThreaded=False,  # NOT IMPLEMENTED\n",
    "\n",
    "                        # Tuning\n",
    "                        scalingRatio=2.0,\n",
    "                        strongGravityMode=False,\n",
    "                        gravity=1.0,\n",
    "\n",
    "                        # Log\n",
    "                        verbose=True)\n",
    "\n",
    "positions = forceatlas2.forceatlas2_networkx_layout(G_nx, pos=None, iterations=2000)\n",
    "print(positions)\n",
    "nx.draw_networkx_nodes(G_nx, positions, node_size=20, with_labels=False, node_color=\"blue\", alpha=0.4)\n",
    "nx.draw_networkx_edges(G_nx, positions, edge_color=\"green\", alpha=0.05)\n",
    "plt.axis('off')\n",
    "plt.show()\n"
   ]
  },
  {
   "cell_type": "code",
   "execution_count": null,
   "metadata": {},
   "outputs": [],
   "source": []
  },
  {
   "cell_type": "code",
   "execution_count": 126,
   "metadata": {},
   "outputs": [
    {
     "name": "stdout",
     "output_type": "stream",
     "text": [
      "{'node': 'CHEK1', 'x': 23.340858631081073, 'y': -14.346252642840405}\n"
     ]
    }
   ],
   "source": [
    "certesian =  [{'node': n,'x': float(positions[n][0]),'y': float(positions[n][1])} for n in positions]\n",
    "print(certesian[0])"
   ]
  },
  {
   "cell_type": "code",
   "execution_count": 120,
   "metadata": {},
   "outputs": [
    {
     "data": {
      "image/png": "[encoded data removed]",
      "text/plain": [
       "<Figure size 432x288 with 1 Axes>"
      ]
     },
     "metadata": {},
     "output_type": "display_data"
    }
   ],
   "source": [
    "\n",
    "import matplotlib.pyplot as plt\n",
    "%matplotlib inline\n",
    "nx.draw(G_nx)\n",
    "plt.show()"
   ]
  },
  {
   "cell_type": "code",
   "execution_count": 121,
   "metadata": {},
   "outputs": [],
   "source": [
    "    def _cartesian(G):\n",
    "        \"\"\"\n",
    "        Converts node coordinates from a :py:class:`networkx.Graph` object\n",
    "        to a list of dicts with following format:\n",
    "        [{'node': <node id>,\n",
    "          'x': <x position>,\n",
    "          'y': <y position>}]\n",
    "        :param G:\n",
    "        :return: coordinates\n",
    "        :rtype: list\n",
    "        \"\"\"\n",
    "        return [{'node': n,\n",
    "                 'x': float(G.pos[n][0]),\n",
    "                 'y': float(G.pos[n][1])} for n in G.pos]\n",
    "\n",
    "    def _apply_fa2_layout( network, iterations=50):\n",
    "        \"\"\"\n",
    "        Applies simple spring network by using\n",
    "        :py:func:`networkx.drawing.spring_layout` and putting the\n",
    "        coordinates into 'cartesianLayout' aspect on the 'network' passed\n",
    "        in\n",
    "        :param network: Network to update\n",
    "        :type network: :py:class:`~ndex2.nice_cx_network.NiceCXNetwork`\n",
    "        :param iterations: Number of iterations to use for networkx spring layout call\n",
    "                           default is 50\n",
    "        :type iterations: int\n",
    "        :return: None\n",
    "        \"\"\"\n",
    "        num_nodes = len(network.get_nodes())\n",
    "        my_networkx = network.to_networkx(mode='default')\n",
    "        if num_nodes < 10:\n",
    "            nodescale = num_nodes*20\n",
    "        elif num_nodes < 20:\n",
    "            nodescale = num_nodes*15\n",
    "        elif num_nodes < 100:\n",
    "            nodescale = num_nodes*10\n",
    "        else:\n",
    "            nodescale = num_nodes*5\n",
    "\n",
    "        my_networkx.pos = nx.drawing.spring_layout(my_networkx,\n",
    "                                                   scale=nodescale,\n",
    "                                                   k=1.8,\n",
    "                                                   iterations=iterations)\n",
    "        cartesian_aspect = certesian\n",
    "        network.set_opaque_aspect(\"cartesianLayout\", cartesian_aspect)"
   ]
  },
  {
   "cell_type": "code",
   "execution_count": 122,
   "metadata": {},
   "outputs": [],
   "source": [
    "    def _apply_simple_spring_layout(network, iterations=50):\n",
    "        \"\"\"\n",
    "        Applies simple spring network by using\n",
    "        :py:func:`networkx.drawing.spring_layout` and putting the\n",
    "        coordinates into 'cartesianLayout' aspect on the 'network' passed\n",
    "        in\n",
    "        :param network: Network to update\n",
    "        :type network: :py:class:`~ndex2.nice_cx_network.NiceCXNetwork`\n",
    "        :param iterations: Number of iterations to use for networkx spring layout call\n",
    "                           default is 50\n",
    "        :type iterations: int\n",
    "        :return: None\n",
    "        \"\"\"\n",
    "        num_nodes = len(network.get_nodes())\n",
    "        my_networkx = network.to_networkx(mode='default')\n",
    "        if num_nodes < 10:\n",
    "            nodescale = num_nodes*20\n",
    "        elif num_nodes < 20:\n",
    "            nodescale = num_nodes*15\n",
    "        elif num_nodes < 100:\n",
    "            nodescale = num_nodes*10\n",
    "        else:\n",
    "            nodescale = num_nodes*5\n",
    "\n",
    "        my_networkx.pos = nx.drawing.spring_layout(my_networkx,\n",
    "                                                   scale=nodescale,\n",
    "                                                   k=1.8,\n",
    "                                                   iterations=iterations)\n",
    "        cartesian_aspect = _cartesian(my_networkx)\n",
    "        network.set_opaque_aspect(\"cartesianLayout\", cartesian_aspect)"
   ]
  },
  {
   "cell_type": "code",
   "execution_count": 123,
   "metadata": {},
   "outputs": [],
   "source": [
    "ncx_from_x=ndex2.create_nice_cx_from_networkx(G_nx)\n",
    "\n",
    "_apply_fa2_layout(ncx_from_x)\n"
   ]
  },
  {
   "cell_type": "markdown",
   "metadata": {},
   "source": [
    "##  upload the network"
   ]
  },
  {
   "cell_type": "code",
   "execution_count": 124,
   "metadata": {},
   "outputs": [
    {
     "name": "stdout",
     "output_type": "stream",
     "text": [
      "Success.  Please continue.\n"
     ]
    }
   ],
   "source": [
    "my_account=\"am\"\n",
    "my_password=\"ndexpassword\"\n",
    "my_server=\"http://public.ndexbio.org\"\n",
    "\n",
    "if my_account == 'enter your username here':\n",
    "    print('*******WARNING!!!!*******')\n",
    "    print('Please change the username and password before proceeding')\n",
    "else:\n",
    "    try:\n",
    "        my_ndex=nc.Ndex2(my_server, my_account, my_password)\n",
    "        my_ndex.update_status()\n",
    "        print(\"Success.  Please continue.\")\n",
    "    except Exception as inst:\n",
    "        print(\"Could not access account %s with password %s\" % (my_account, my_password))\n",
    "        print(inst.args)"
   ]
  },
  {
   "cell_type": "code",
   "execution_count": 125,
   "metadata": {},
   "outputs": [
    {
     "name": "stdout",
     "output_type": "stream",
     "text": [
      "Generating CX\n",
      "http://public.ndexbio.org/v2/network/daaad429-c543-11e9-8bb4-0ac135e8bacf\n"
     ]
    }
   ],
   "source": [
    "upload_message=ncx_from_x.upload_to(my_server, my_account, my_password)\n",
    "print(upload_message)"
   ]
  },
  {
   "cell_type": "code",
   "execution_count": null,
   "metadata": {},
   "outputs": [],
   "source": []
  },
  {
   "cell_type": "markdown",
   "metadata": {},
   "source": [
    "# Step 4: Send data to Cytoscape"
   ]
  },
  {
   "cell_type": "code",
   "execution_count": null,
   "metadata": {},
   "outputs": [],
   "source": []
  },
  {
   "cell_type": "code",
   "execution_count": null,
   "metadata": {},
   "outputs": [],
   "source": []
  },
  {
   "cell_type": "code",
   "execution_count": null,
   "metadata": {},
   "outputs": [],
   "source": []
  },
  {
   "cell_type": "code",
   "execution_count": null,
   "metadata": {},
   "outputs": [],
   "source": []
  }
 ],
 "metadata": {
  "kernelspec": {
   "display_name": "Python 3",
   "language": "python",
   "name": "python3"
  },
  "language_info": {
   "codemirror_mode": {
    "name": "ipython",
    "version": 3
   },
   "file_extension": ".py",
   "mimetype": "text/x-python",
   "name": "python",
   "nbconvert_exporter": "python",
   "pygments_lexer": "ipython3",
   "version": "3.7.1"
  }
 },
 "nbformat": 4,
 "nbformat_minor": 4
}
